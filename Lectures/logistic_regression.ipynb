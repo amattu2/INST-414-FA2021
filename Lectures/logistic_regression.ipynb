{
 "cells": [
  {
   "cell_type": "code",
   "execution_count": 1,
   "metadata": {},
   "outputs": [],
   "source": [
    "import numpy as np\n",
    "import pandas as pd\n",
    "import matplotlib.pyplot as plt\n",
    "import seaborn as sns\n",
    "\n",
    "from sklearn import linear_model \n",
    "#it includes linear and logistic regression\n",
    "\n",
    "from sklearn.model_selection import train_test_split\n",
    "import sklearn.metrics as metrics\n",
    "\n",
    " "
   ]
  },
  {
   "cell_type": "code",
   "execution_count": 2,
   "metadata": {},
   "outputs": [],
   "source": [
    "from sklearn.datasets import load_iris\n",
    "\n",
    "iris=load_iris()"
   ]
  },
  {
   "cell_type": "code",
   "execution_count": 3,
   "metadata": {},
   "outputs": [
    {
     "name": "stdout",
     "output_type": "stream",
     "text": [
      ".. _iris_dataset:\n",
      "\n",
      "Iris plants dataset\n",
      "--------------------\n",
      "\n",
      "**Data Set Characteristics:**\n",
      "\n",
      "    :Number of Instances: 150 (50 in each of three classes)\n",
      "    :Number of Attributes: 4 numeric, predictive attributes and the class\n",
      "    :Attribute Information:\n",
      "        - sepal length in cm\n",
      "        - sepal width in cm\n",
      "        - petal length in cm\n",
      "        - petal width in cm\n",
      "        - class:\n",
      "                - Iris-Setosa\n",
      "                - Iris-Versicolour\n",
      "                - Iris-Virginica\n",
      "                \n",
      "    :Summary Statistics:\n",
      "\n",
      "    ============== ==== ==== ======= ===== ====================\n",
      "                    Min  Max   Mean    SD   Class Correlation\n",
      "    ============== ==== ==== ======= ===== ====================\n",
      "    sepal length:   4.3  7.9   5.84   0.83    0.7826\n",
      "    sepal width:    2.0  4.4   3.05   0.43   -0.4194\n",
      "    petal length:   1.0  6.9   3.76   1.76    0.9490  (high!)\n",
      "    petal width:    0.1  2.5   1.20   0.76    0.9565  (high!)\n",
      "    ============== ==== ==== ======= ===== ====================\n",
      "\n",
      "    :Missing Attribute Values: None\n",
      "    :Class Distribution: 33.3% for each of 3 classes.\n",
      "    :Creator: R.A. Fisher\n",
      "    :Donor: Michael Marshall (MARSHALL%PLU@io.arc.nasa.gov)\n",
      "    :Date: July, 1988\n",
      "\n",
      "The famous Iris database, first used by Sir R.A. Fisher. The dataset is taken\n",
      "from Fisher's paper. Note that it's the same as in R, but not as in the UCI\n",
      "Machine Learning Repository, which has two wrong data points.\n",
      "\n",
      "This is perhaps the best known database to be found in the\n",
      "pattern recognition literature.  Fisher's paper is a classic in the field and\n",
      "is referenced frequently to this day.  (See Duda & Hart, for example.)  The\n",
      "data set contains 3 classes of 50 instances each, where each class refers to a\n",
      "type of iris plant.  One class is linearly separable from the other 2; the\n",
      "latter are NOT linearly separable from each other.\n",
      "\n",
      ".. topic:: References\n",
      "\n",
      "   - Fisher, R.A. \"The use of multiple measurements in taxonomic problems\"\n",
      "     Annual Eugenics, 7, Part II, 179-188 (1936); also in \"Contributions to\n",
      "     Mathematical Statistics\" (John Wiley, NY, 1950).\n",
      "   - Duda, R.O., & Hart, P.E. (1973) Pattern Classification and Scene Analysis.\n",
      "     (Q327.D83) John Wiley & Sons.  ISBN 0-471-22361-1.  See page 218.\n",
      "   - Dasarathy, B.V. (1980) \"Nosing Around the Neighborhood: A New System\n",
      "     Structure and Classification Rule for Recognition in Partially Exposed\n",
      "     Environments\".  IEEE Transactions on Pattern Analysis and Machine\n",
      "     Intelligence, Vol. PAMI-2, No. 1, 67-71.\n",
      "   - Gates, G.W. (1972) \"The Reduced Nearest Neighbor Rule\".  IEEE Transactions\n",
      "     on Information Theory, May 1972, 431-433.\n",
      "   - See also: 1988 MLC Proceedings, 54-64.  Cheeseman et al\"s AUTOCLASS II\n",
      "     conceptual clustering system finds 3 classes in the data.\n",
      "   - Many, many more ...\n"
     ]
    }
   ],
   "source": [
    "print(iris.DESCR)"
   ]
  },
  {
   "cell_type": "code",
   "execution_count": 4,
   "metadata": {},
   "outputs": [],
   "source": [
    "x=iris.data\n",
    "y=iris.target"
   ]
  },
  {
   "cell_type": "code",
   "execution_count": 5,
   "metadata": {},
   "outputs": [
    {
     "data": {
      "text/html": [
       "<div>\n",
       "<style scoped>\n",
       "    .dataframe tbody tr th:only-of-type {\n",
       "        vertical-align: middle;\n",
       "    }\n",
       "\n",
       "    .dataframe tbody tr th {\n",
       "        vertical-align: top;\n",
       "    }\n",
       "\n",
       "    .dataframe thead th {\n",
       "        text-align: right;\n",
       "    }\n",
       "</style>\n",
       "<table border=\"1\" class=\"dataframe\">\n",
       "  <thead>\n",
       "    <tr style=\"text-align: right;\">\n",
       "      <th></th>\n",
       "      <th>sepal length (cm)</th>\n",
       "      <th>sepal width (cm)</th>\n",
       "      <th>petal length (cm)</th>\n",
       "      <th>petal width (cm)</th>\n",
       "      <th>species</th>\n",
       "    </tr>\n",
       "  </thead>\n",
       "  <tbody>\n",
       "    <tr>\n",
       "      <th>0</th>\n",
       "      <td>5.1</td>\n",
       "      <td>3.5</td>\n",
       "      <td>1.4</td>\n",
       "      <td>0.2</td>\n",
       "      <td>0</td>\n",
       "    </tr>\n",
       "    <tr>\n",
       "      <th>1</th>\n",
       "      <td>4.9</td>\n",
       "      <td>3.0</td>\n",
       "      <td>1.4</td>\n",
       "      <td>0.2</td>\n",
       "      <td>0</td>\n",
       "    </tr>\n",
       "    <tr>\n",
       "      <th>2</th>\n",
       "      <td>4.7</td>\n",
       "      <td>3.2</td>\n",
       "      <td>1.3</td>\n",
       "      <td>0.2</td>\n",
       "      <td>0</td>\n",
       "    </tr>\n",
       "    <tr>\n",
       "      <th>3</th>\n",
       "      <td>4.6</td>\n",
       "      <td>3.1</td>\n",
       "      <td>1.5</td>\n",
       "      <td>0.2</td>\n",
       "      <td>0</td>\n",
       "    </tr>\n",
       "    <tr>\n",
       "      <th>4</th>\n",
       "      <td>5.0</td>\n",
       "      <td>3.6</td>\n",
       "      <td>1.4</td>\n",
       "      <td>0.2</td>\n",
       "      <td>0</td>\n",
       "    </tr>\n",
       "    <tr>\n",
       "      <th>...</th>\n",
       "      <td>...</td>\n",
       "      <td>...</td>\n",
       "      <td>...</td>\n",
       "      <td>...</td>\n",
       "      <td>...</td>\n",
       "    </tr>\n",
       "    <tr>\n",
       "      <th>145</th>\n",
       "      <td>6.7</td>\n",
       "      <td>3.0</td>\n",
       "      <td>5.2</td>\n",
       "      <td>2.3</td>\n",
       "      <td>2</td>\n",
       "    </tr>\n",
       "    <tr>\n",
       "      <th>146</th>\n",
       "      <td>6.3</td>\n",
       "      <td>2.5</td>\n",
       "      <td>5.0</td>\n",
       "      <td>1.9</td>\n",
       "      <td>2</td>\n",
       "    </tr>\n",
       "    <tr>\n",
       "      <th>147</th>\n",
       "      <td>6.5</td>\n",
       "      <td>3.0</td>\n",
       "      <td>5.2</td>\n",
       "      <td>2.0</td>\n",
       "      <td>2</td>\n",
       "    </tr>\n",
       "    <tr>\n",
       "      <th>148</th>\n",
       "      <td>6.2</td>\n",
       "      <td>3.4</td>\n",
       "      <td>5.4</td>\n",
       "      <td>2.3</td>\n",
       "      <td>2</td>\n",
       "    </tr>\n",
       "    <tr>\n",
       "      <th>149</th>\n",
       "      <td>5.9</td>\n",
       "      <td>3.0</td>\n",
       "      <td>5.1</td>\n",
       "      <td>1.8</td>\n",
       "      <td>2</td>\n",
       "    </tr>\n",
       "  </tbody>\n",
       "</table>\n",
       "<p>150 rows × 5 columns</p>\n",
       "</div>"
      ],
      "text/plain": [
       "     sepal length (cm)  sepal width (cm)  petal length (cm)  petal width (cm)  \\\n",
       "0                  5.1               3.5                1.4               0.2   \n",
       "1                  4.9               3.0                1.4               0.2   \n",
       "2                  4.7               3.2                1.3               0.2   \n",
       "3                  4.6               3.1                1.5               0.2   \n",
       "4                  5.0               3.6                1.4               0.2   \n",
       "..                 ...               ...                ...               ...   \n",
       "145                6.7               3.0                5.2               2.3   \n",
       "146                6.3               2.5                5.0               1.9   \n",
       "147                6.5               3.0                5.2               2.0   \n",
       "148                6.2               3.4                5.4               2.3   \n",
       "149                5.9               3.0                5.1               1.8   \n",
       "\n",
       "     species  \n",
       "0          0  \n",
       "1          0  \n",
       "2          0  \n",
       "3          0  \n",
       "4          0  \n",
       "..       ...  \n",
       "145        2  \n",
       "146        2  \n",
       "147        2  \n",
       "148        2  \n",
       "149        2  \n",
       "\n",
       "[150 rows x 5 columns]"
      ]
     },
     "execution_count": 5,
     "metadata": {},
     "output_type": "execute_result"
    }
   ],
   "source": [
    "irisDF=pd.DataFrame(x,columns=iris.feature_names)\n",
    "irisDF[\"species\"]=y\n",
    "irisDF"
   ]
  },
  {
   "cell_type": "code",
   "execution_count": 6,
   "metadata": {},
   "outputs": [
    {
     "data": {
      "text/plain": [
       "<seaborn.axisgrid.PairGrid at 0x7f8321048a00>"
      ]
     },
     "execution_count": 6,
     "metadata": {},
     "output_type": "execute_result"
    },
    {
     "data": {
      "image/png": "[encoded data removed]",
      "text/plain": [
       "<Figure size 900x900 with 30 Axes>"
      ]
     },
     "metadata": {
      "needs_background": "light"
     },
     "output_type": "display_data"
    }
   ],
   "source": [
    "sns.pairplot(irisDF)"
   ]
  },
  {
   "cell_type": "code",
   "execution_count": 7,
   "metadata": {},
   "outputs": [
    {
     "data": {
      "text/plain": [
       "<seaborn.axisgrid.PairGrid at 0x7f8318b9fd90>"
      ]
     },
     "execution_count": 7,
     "metadata": {},
     "output_type": "execute_result"
    },
    {
     "data": {
      "image/png": "[encoded data removed]",
      "text/plain": [
       "<Figure size 765.375x720 with 20 Axes>"
      ]
     },
     "metadata": {
      "needs_background": "light"
     },
     "output_type": "display_data"
    }
   ],
   "source": [
    "sns.pairplot(irisDF,hue=\"species\")"
   ]
  },
  {
   "cell_type": "markdown",
   "metadata": {},
   "source": [
    "- Which feature is the least distinguishing?\n",
    "\n",
    "- Do you think the classes are seprable based on features?"
   ]
  },
  {
   "cell_type": "code",
   "execution_count": 8,
   "metadata": {},
   "outputs": [
    {
     "name": "stderr",
     "output_type": "stream",
     "text": [
      "/Users/naghmehmomeni/opt/anaconda3/lib/python3.8/site-packages/sklearn/linear_model/_logistic.py:763: ConvergenceWarning: lbfgs failed to converge (status=1):\n",
      "STOP: TOTAL NO. of ITERATIONS REACHED LIMIT.\n",
      "\n",
      "Increase the number of iterations (max_iter) or scale the data as shown in:\n",
      "    https://scikit-learn.org/stable/modules/preprocessing.html\n",
      "Please also refer to the documentation for alternative solver options:\n",
      "    https://scikit-learn.org/stable/modules/linear_model.html#logistic-regression\n",
      "  n_iter_i = _check_optimize_result(\n"
     ]
    }
   ],
   "source": [
    "# sklearn documetation calls the model classifier\n",
    "model=linear_model.LogisticRegression()\n",
    "model.fit(x,y)\n",
    "ypred=model.predict(x)  #returns the predicted class (with highest strength)\n",
    "ypred_ps=model.predict_proba(x)  #returns stength of belonging to classes"
   ]
  },
  {
   "cell_type": "markdown",
   "metadata": {},
   "source": [
    "- Sklearn finds the parameters that minimizes the cost function.\n",
    "- Behind the scenes, this is done in mutiple steps. \n",
    "- The default number of iterations (steps) of the algorithm is not enough for the optimization to find solutions.\n",
    "- What is the default number of iterations?"
   ]
  },
  {
   "cell_type": "code",
   "execution_count": 9,
   "metadata": {},
   "outputs": [],
   "source": [
    "linear_model.LogisticRegression?"
   ]
  },
  {
   "cell_type": "code",
   "execution_count": 10,
   "metadata": {},
   "outputs": [],
   "source": [
    "model=linear_model.LogisticRegression(max_iter=1000)\n",
    "model.fit(x,y)\n",
    "ypred=model.predict(x)\n",
    "ypred_ps=model.predict_proba(x)"
   ]
  },
  {
   "cell_type": "code",
   "execution_count": 11,
   "metadata": {},
   "outputs": [
    {
     "name": "stdout",
     "output_type": "stream",
     "text": [
      "[0 0 0 0 0 0 0 0 0 0 0 0 0 0 0 0 0 0 0 0 0 0 0 0 0 0 0 0 0 0 0 0 0 0 0 0 0\n",
      " 0 0 0 0 0 0 0 0 0 0 0 0 0 1 1 1 1 1 1 1 1 1 1 1 1 1 1 1 1 1 1 1 1 2 1 1 1\n",
      " 1 1 1 2 1 1 1 1 1 2 1 1 1 1 1 1 1 1 1 1 1 1 1 1 1 1 2 2 2 2 2 2 1 2 2 2 2\n",
      " 2 2 2 2 2 2 2 2 2 2 2 2 2 2 2 2 2 2 2 2 2 2 2 2 2 2 2 2 2 2 2 2 2 2 2 2 2\n",
      " 2 2]\n"
     ]
    }
   ],
   "source": [
    "print(ypred)"
   ]
  },
  {
   "cell_type": "code",
   "execution_count": 12,
   "metadata": {},
   "outputs": [
    {
     "name": "stdout",
     "output_type": "stream",
     "text": [
      "[0 0 0 0 0 0 0 0 0 0 0 0 0 0 0 0 0 0 0 0 0 0 0 0 0 0 0 0 0 0 0 0 0 0 0 0 0\n",
      " 0 0 0 0 0 0 0 0 0 0 0 0 0 1 1 1 1 1 1 1 1 1 1 1 1 1 1 1 1 1 1 1 1 1 1 1 1\n",
      " 1 1 1 1 1 1 1 1 1 1 1 1 1 1 1 1 1 1 1 1 1 1 1 1 1 1 2 2 2 2 2 2 2 2 2 2 2\n",
      " 2 2 2 2 2 2 2 2 2 2 2 2 2 2 2 2 2 2 2 2 2 2 2 2 2 2 2 2 2 2 2 2 2 2 2 2 2\n",
      " 2 2]\n"
     ]
    }
   ],
   "source": [
    "print(y)"
   ]
  },
  {
   "cell_type": "code",
   "execution_count": 13,
   "metadata": {},
   "outputs": [
    {
     "name": "stdout",
     "output_type": "stream",
     "text": [
      "[[9.81579028e-01 1.84209573e-02 1.44796627e-08]\n",
      " [9.71349907e-01 2.86500630e-02 3.01442199e-08]\n",
      " [9.85284354e-01 1.47156339e-02 1.23163687e-08]\n",
      " [9.76083240e-01 2.39167200e-02 3.96363361e-08]\n",
      " [9.85231429e-01 1.47685587e-02 1.19875304e-08]\n",
      " [9.70196316e-01 2.98036099e-02 7.39148694e-08]\n",
      " [9.86782826e-01 1.32171543e-02 1.99455259e-08]\n",
      " [9.76147071e-01 2.38529009e-02 2.76955600e-08]\n",
      " [9.79653445e-01 2.03465240e-02 3.05443622e-08]\n",
      " [9.68772653e-01 3.12273156e-02 3.16864626e-08]\n",
      " [9.76210733e-01 2.37892478e-02 1.93520385e-08]\n",
      " [9.75215550e-01 2.47844062e-02 4.38950474e-08]\n",
      " [9.74242568e-01 2.57574108e-02 2.14848856e-08]\n",
      " [9.91883757e-01 8.11623906e-03 3.88191186e-09]\n",
      " [9.87995930e-01 1.20040672e-02 2.84024006e-09]\n",
      " [9.86629814e-01 1.33701730e-02 1.29236593e-08]\n",
      " [9.87957561e-01 1.20424300e-02 9.24943390e-09]\n",
      " [9.81333386e-01 1.86665938e-02 1.97428680e-08]\n",
      " [9.56053527e-01 4.39464043e-02 6.89349461e-08]\n",
      " [9.83975297e-01 1.60246826e-02 2.06102043e-08]\n",
      " [9.46134696e-01 5.38652172e-02 8.67966917e-08]\n",
      " [9.81570108e-01 1.84298591e-02 3.29472914e-08]\n",
      " [9.95963572e-01 4.03642704e-03 1.31380813e-09]\n",
      " [9.51861732e-01 4.81380307e-02 2.36940670e-07]\n",
      " [9.51625035e-01 4.83747590e-02 2.06372706e-07]\n",
      " [9.50988734e-01 4.90111793e-02 8.68666942e-08]\n",
      " [9.69339134e-01 3.06607801e-02 8.64003411e-08]\n",
      " [9.74634656e-01 2.53653188e-02 2.50553670e-08]\n",
      " [9.77044401e-01 2.29555813e-02 1.74738734e-08]\n",
      " [9.70992572e-01 2.90073697e-02 5.84801528e-08]\n",
      " [9.63947632e-01 3.60522981e-02 7.03862361e-08]\n",
      " [9.64465572e-01 3.55343706e-02 5.76912903e-08]\n",
      " [9.88283031e-01 1.17169618e-02 7.07849567e-09]\n",
      " [9.88943081e-01 1.10569138e-02 5.34728735e-09]\n",
      " [9.68361741e-01 3.16382157e-02 4.31966436e-08]\n",
      " [9.84440052e-01 1.55599397e-02 8.00372707e-09]\n",
      " [9.78608051e-01 2.13919391e-02 9.68781353e-09]\n",
      " [9.86741670e-01 1.32583215e-02 8.53164017e-09]\n",
      " [9.85715093e-01 1.42848912e-02 1.54862536e-08]\n",
      " [9.73808922e-01 2.61910492e-02 2.85082498e-08]\n",
      " [9.86469281e-01 1.35307078e-02 1.13881057e-08]\n",
      " [9.61698389e-01 3.83015448e-02 6.57468339e-08]\n",
      " [9.88923036e-01 1.10769523e-02 1.12532471e-08]\n",
      " [9.72224279e-01 2.77755841e-02 1.37178913e-07]\n",
      " [9.60060621e-01 3.99391559e-02 2.23178616e-07]\n",
      " [9.73556433e-01 2.64435275e-02 3.99344823e-08]\n",
      " [9.80157408e-01 1.98425664e-02 2.54247838e-08]\n",
      " [9.83190274e-01 1.68097059e-02 2.01178048e-08]\n",
      " [9.78339235e-01 2.16607457e-02 1.87962279e-08]\n",
      " [9.78416318e-01 2.15836631e-02 1.93123244e-08]\n",
      " [2.12209872e-03 8.74036222e-01 1.23841679e-01]\n",
      " [5.81300519e-03 8.59785741e-01 1.34401254e-01]\n",
      " [1.05882319e-03 7.25180708e-01 2.73760468e-01]\n",
      " [1.54162700e-02 9.39679964e-01 4.49037658e-02]\n",
      " [2.37442685e-03 8.15258536e-01 1.82367037e-01]\n",
      " [6.98430845e-03 8.60107774e-01 1.32907918e-01]\n",
      " [3.76941092e-03 7.16562741e-01 2.79667848e-01]\n",
      " [1.47873480e-01 8.49072343e-01 3.05417686e-03]\n",
      " [2.77273563e-03 8.96687668e-01 1.00539597e-01]\n",
      " [4.15072585e-02 9.11869847e-01 4.66228949e-02]\n",
      " [5.58344204e-02 9.37695425e-01 6.47015481e-03]\n",
      " [1.51764559e-02 8.98848676e-01 8.59748684e-02]\n",
      " [9.08024376e-03 9.76592308e-01 1.43274480e-02]\n",
      " [3.04793150e-03 7.79277021e-01 2.17675047e-01]\n",
      " [7.44480458e-02 9.15104161e-01 1.04477927e-02]\n",
      " [5.27393285e-03 9.26398114e-01 6.83279535e-02]\n",
      " [8.71905502e-03 7.74642097e-01 2.16638848e-01]\n",
      " [1.64294438e-02 9.65208758e-01 1.83617982e-02]\n",
      " [1.80978120e-03 8.01028385e-01 1.97161834e-01]\n",
      " [2.39507579e-02 9.59453365e-01 1.65958772e-02]\n",
      " [2.30764807e-03 4.40101547e-01 5.57590805e-01]\n",
      " [1.68102684e-02 9.56808773e-01 2.63809588e-02]\n",
      " [7.14727460e-04 5.96275954e-01 4.03009318e-01]\n",
      " [3.03778296e-03 8.59912229e-01 1.37049988e-01]\n",
      " [7.06569101e-03 9.42987471e-01 4.99468380e-02]\n",
      " [5.06889197e-03 9.20146066e-01 7.47850419e-02]\n",
      " [1.11790933e-03 8.01600285e-01 1.97281805e-01]\n",
      " [5.78083603e-04 4.81196467e-01 5.18225450e-01]\n",
      " [5.48233467e-03 8.13099861e-01 1.81417804e-01]\n",
      " [6.16149209e-02 9.35006974e-01 3.37810496e-03]\n",
      " [2.91340337e-02 9.57254791e-01 1.36111753e-02]\n",
      " [3.71320984e-02 9.55336771e-01 7.53113056e-03]\n",
      " [2.51584403e-02 9.56507891e-01 1.83336688e-02]\n",
      " [4.49323067e-04 3.49636276e-01 6.49914401e-01]\n",
      " [1.02379995e-02 7.50827865e-01 2.38934136e-01]\n",
      " [9.98967182e-03 7.88718066e-01 2.01292262e-01]\n",
      " [2.26113732e-03 8.05242404e-01 1.92496459e-01]\n",
      " [2.75996372e-03 9.13193959e-01 8.40460768e-02]\n",
      " [2.70593267e-02 9.28521794e-01 4.44188789e-02]\n",
      " [1.99116462e-02 9.38080449e-01 4.20079052e-02]\n",
      " [8.71858907e-03 8.97877491e-01 9.34039201e-02]\n",
      " [4.64281973e-03 8.28278269e-01 1.67078911e-01]\n",
      " [1.75642816e-02 9.57034199e-01 2.54015192e-02]\n",
      " [1.21749390e-01 8.75201926e-01 3.04868387e-03]\n",
      " [1.44667969e-02 9.20465389e-01 6.50678144e-02]\n",
      " [1.99814448e-02 9.38106135e-01 4.19124207e-02]\n",
      " [1.70971768e-02 9.25432909e-01 5.74699145e-02]\n",
      " [8.48860173e-03 9.35149489e-01 5.63619089e-02]\n",
      " [2.43650508e-01 7.55058796e-01 1.29069678e-03]\n",
      " [1.91558904e-02 9.36048602e-01 4.47955073e-02]\n",
      " [9.03595654e-07 3.91171890e-03 9.96087378e-01]\n",
      " [2.42934488e-04 1.62489491e-01 8.37267575e-01]\n",
      " [2.47831361e-06 2.55724484e-02 9.74425073e-01]\n",
      " [3.12123619e-05 8.16565774e-02 9.18312210e-01]\n",
      " [3.73458116e-06 1.74358041e-02 9.82560461e-01]\n",
      " [5.52092858e-08 4.63876780e-03 9.95361177e-01]\n",
      " [5.78232044e-03 5.13515960e-01 4.80701720e-01]\n",
      " [6.20268787e-07 2.13444476e-02 9.78654932e-01]\n",
      " [5.22090658e-06 5.32691103e-02 9.46725669e-01]\n",
      " [6.53512287e-07 5.74225922e-03 9.94257087e-01]\n",
      " [3.02037090e-04 2.10455849e-01 7.89242114e-01]\n",
      " [7.27116511e-05 1.37270118e-01 8.62657170e-01]\n",
      " [2.12516209e-05 6.52551968e-02 9.34723552e-01]\n",
      " [2.29499031e-04 1.45155912e-01 8.54614589e-01]\n",
      " [6.91078347e-05 4.34747813e-02 9.56456111e-01]\n",
      " [5.16157665e-05 5.40171094e-02 9.45931275e-01]\n",
      " [5.55679658e-05 1.22886228e-01 8.77058204e-01]\n",
      " [8.44917185e-08 3.56128567e-03 9.96438630e-01]\n",
      " [3.14371603e-09 1.00004768e-03 9.98999949e-01]\n",
      " [3.89477565e-04 4.51845166e-01 5.47765356e-01]\n",
      " [5.59673260e-06 2.38442089e-02 9.76150194e-01]\n",
      " [6.14216221e-04 1.90353993e-01 8.09031791e-01]\n",
      " [3.12939545e-08 4.65445317e-03 9.95345516e-01]\n",
      " [5.85306825e-04 3.93013445e-01 6.06401248e-01]\n",
      " [1.28257176e-05 3.85981607e-02 9.61389014e-01]\n",
      " [4.84820562e-06 5.14939441e-02 9.48501208e-01]\n",
      " [1.07223755e-03 4.56424984e-01 5.42502778e-01]\n",
      " [1.02302267e-03 3.85301827e-01 6.13675150e-01]\n",
      " [1.06497640e-05 3.63225497e-02 9.63666801e-01]\n",
      " [1.68541678e-05 1.42007186e-01 8.57975960e-01]\n",
      " [1.06151394e-06 2.91986409e-02 9.70800298e-01]\n",
      " [7.01321010e-07 1.74268024e-02 9.82572496e-01]\n",
      " [7.88226106e-06 2.72488848e-02 9.72743233e-01]\n",
      " [5.28407016e-04 4.75543769e-01 5.23927824e-01]\n",
      " [6.26174099e-05 1.88542188e-01 8.11395195e-01]\n",
      " [3.92551215e-07 1.17454978e-02 9.88254110e-01]\n",
      " [1.16246360e-05 1.73198456e-02 9.82668530e-01]\n",
      " [6.76317799e-05 1.19465488e-01 8.80466880e-01]\n",
      " [1.62127828e-03 4.40313319e-01 5.58065403e-01]\n",
      " [3.96396239e-05 9.34788900e-02 9.06481470e-01]\n",
      " [6.30294226e-06 2.02825422e-02 9.79711155e-01]\n",
      " [9.95958187e-05 1.20634972e-01 8.79265432e-01]\n",
      " [2.42934488e-04 1.62489491e-01 8.37267575e-01]\n",
      " [2.04772609e-06 1.25829865e-02 9.87414966e-01]\n",
      " [3.80935886e-06 1.20999377e-02 9.87896253e-01]\n",
      " [5.58957328e-05 8.00933759e-02 9.19850728e-01]\n",
      " [2.26996936e-04 2.51843928e-01 7.47929075e-01]\n",
      " [1.38309199e-04 1.57100613e-01 8.42761077e-01]\n",
      " [4.56614965e-05 3.84134499e-02 9.61540889e-01]\n",
      " [4.75772493e-04 2.34814788e-01 7.64709439e-01]]\n"
     ]
    }
   ],
   "source": [
    "print(ypred_ps)"
   ]
  },
  {
   "cell_type": "markdown",
   "metadata": {},
   "source": [
    "-Are these really probabiltites?"
   ]
  },
  {
   "cell_type": "code",
   "execution_count": 14,
   "metadata": {},
   "outputs": [
    {
     "data": {
      "text/plain": [
       "0.9733333333333334"
      ]
     },
     "execution_count": 14,
     "metadata": {},
     "output_type": "execute_result"
    }
   ],
   "source": [
    "model.score(x,y) #returns the accuracy of the model"
   ]
  },
  {
   "cell_type": "code",
   "execution_count": 15,
   "metadata": {},
   "outputs": [],
   "source": [
    "model.score?"
   ]
  },
  {
   "cell_type": "code",
   "execution_count": 16,
   "metadata": {},
   "outputs": [],
   "source": [
    "from sklearn.metrics import classification_report"
   ]
  },
  {
   "cell_type": "code",
   "execution_count": 17,
   "metadata": {},
   "outputs": [],
   "source": [
    "xtrain,xtest,ytrain,ytest=train_test_split(x,y,test_size=0.25)"
   ]
  },
  {
   "cell_type": "code",
   "execution_count": 18,
   "metadata": {},
   "outputs": [
    {
     "data": {
      "text/plain": [
       "(112, 4)"
      ]
     },
     "execution_count": 18,
     "metadata": {},
     "output_type": "execute_result"
    }
   ],
   "source": [
    "xtrain.shape"
   ]
  },
  {
   "cell_type": "code",
   "execution_count": 19,
   "metadata": {},
   "outputs": [
    {
     "data": {
      "text/plain": [
       "(112,)"
      ]
     },
     "execution_count": 19,
     "metadata": {},
     "output_type": "execute_result"
    }
   ],
   "source": [
    "ytrain.shape"
   ]
  },
  {
   "cell_type": "code",
   "execution_count": 27,
   "metadata": {},
   "outputs": [
    {
     "name": "stdout",
     "output_type": "stream",
     "text": [
      "0.8947368421052632\n",
      "              precision    recall  f1-score   support\n",
      "\n",
      "           0       1.00      1.00      1.00        13\n",
      "           1       0.79      0.92      0.85        12\n",
      "           2       0.91      0.77      0.83        13\n",
      "\n",
      "    accuracy                           0.89        38\n",
      "   macro avg       0.90      0.90      0.89        38\n",
      "weighted avg       0.90      0.89      0.89        38\n",
      "\n"
     ]
    }
   ],
   "source": [
    "xtrain,xtest,ytrain,ytest=train_test_split(x,y,test_size=0.25)\n",
    "model=linear_model.LogisticRegression(max_iter=1000)\n",
    "model.fit(xtrain,ytrain)\n",
    "ypred=model.predict(xtest)\n",
    "ypred_ps=model.predict_proba(xtest)\n",
    "print(model.score(xtest,ytest))\n",
    "print(classification_report(ytest,ypred))"
   ]
  },
  {
   "cell_type": "markdown",
   "metadata": {},
   "source": [
    "- In binary classification, recall of the positive class is also known as “sensitivity”; recall of the negative class is “specificity”."
   ]
  },
  {
   "cell_type": "markdown",
   "metadata": {},
   "source": [
    "- What if we only used a subset of features?"
   ]
  },
  {
   "cell_type": "code",
   "execution_count": 31,
   "metadata": {},
   "outputs": [
    {
     "name": "stdout",
     "output_type": "stream",
     "text": [
      "0.7466666666666667\n",
      "              precision    recall  f1-score   support\n",
      "\n",
      "           0       0.87      0.90      0.88        50\n",
      "           1       0.64      0.60      0.62        50\n",
      "           2       0.73      0.74      0.73        50\n",
      "\n",
      "    accuracy                           0.75       150\n",
      "   macro avg       0.74      0.75      0.74       150\n",
      "weighted avg       0.74      0.75      0.74       150\n",
      "\n"
     ]
    }
   ],
   "source": [
    "xnew=x[:,0:1]\n",
    "#only using sepal length\n",
    "model=linear_model.LogisticRegression(max_iter=1000)\n",
    "model.fit(xnew,y)\n",
    "ypred=model.predict(xnew)\n",
    "ypred_ps=model.predict_proba(xnew)\n",
    "\n",
    "\n",
    "print(model.score(xnew,y))\n",
    "print(classification_report(y,ypred))"
   ]
  },
  {
   "cell_type": "code",
   "execution_count": 30,
   "metadata": {
    "collapsed": true
   },
   "outputs": [
    {
     "data": {
      "text/plain": [
       "array([[3.5],\n",
       "       [3. ],\n",
       "       [3.2],\n",
       "       [3.1],\n",
       "       [3.6],\n",
       "       [3.9],\n",
       "       [3.4],\n",
       "       [3.4],\n",
       "       [2.9],\n",
       "       [3.1],\n",
       "       [3.7],\n",
       "       [3.4],\n",
       "       [3. ],\n",
       "       [3. ],\n",
       "       [4. ],\n",
       "       [4.4],\n",
       "       [3.9],\n",
       "       [3.5],\n",
       "       [3.8],\n",
       "       [3.8],\n",
       "       [3.4],\n",
       "       [3.7],\n",
       "       [3.6],\n",
       "       [3.3],\n",
       "       [3.4],\n",
       "       [3. ],\n",
       "       [3.4],\n",
       "       [3.5],\n",
       "       [3.4],\n",
       "       [3.2],\n",
       "       [3.1],\n",
       "       [3.4],\n",
       "       [4.1],\n",
       "       [4.2],\n",
       "       [3.1],\n",
       "       [3.2],\n",
       "       [3.5],\n",
       "       [3.6],\n",
       "       [3. ],\n",
       "       [3.4],\n",
       "       [3.5],\n",
       "       [2.3],\n",
       "       [3.2],\n",
       "       [3.5],\n",
       "       [3.8],\n",
       "       [3. ],\n",
       "       [3.8],\n",
       "       [3.2],\n",
       "       [3.7],\n",
       "       [3.3],\n",
       "       [3.2],\n",
       "       [3.2],\n",
       "       [3.1],\n",
       "       [2.3],\n",
       "       [2.8],\n",
       "       [2.8],\n",
       "       [3.3],\n",
       "       [2.4],\n",
       "       [2.9],\n",
       "       [2.7],\n",
       "       [2. ],\n",
       "       [3. ],\n",
       "       [2.2],\n",
       "       [2.9],\n",
       "       [2.9],\n",
       "       [3.1],\n",
       "       [3. ],\n",
       "       [2.7],\n",
       "       [2.2],\n",
       "       [2.5],\n",
       "       [3.2],\n",
       "       [2.8],\n",
       "       [2.5],\n",
       "       [2.8],\n",
       "       [2.9],\n",
       "       [3. ],\n",
       "       [2.8],\n",
       "       [3. ],\n",
       "       [2.9],\n",
       "       [2.6],\n",
       "       [2.4],\n",
       "       [2.4],\n",
       "       [2.7],\n",
       "       [2.7],\n",
       "       [3. ],\n",
       "       [3.4],\n",
       "       [3.1],\n",
       "       [2.3],\n",
       "       [3. ],\n",
       "       [2.5],\n",
       "       [2.6],\n",
       "       [3. ],\n",
       "       [2.6],\n",
       "       [2.3],\n",
       "       [2.7],\n",
       "       [3. ],\n",
       "       [2.9],\n",
       "       [2.9],\n",
       "       [2.5],\n",
       "       [2.8],\n",
       "       [3.3],\n",
       "       [2.7],\n",
       "       [3. ],\n",
       "       [2.9],\n",
       "       [3. ],\n",
       "       [3. ],\n",
       "       [2.5],\n",
       "       [2.9],\n",
       "       [2.5],\n",
       "       [3.6],\n",
       "       [3.2],\n",
       "       [2.7],\n",
       "       [3. ],\n",
       "       [2.5],\n",
       "       [2.8],\n",
       "       [3.2],\n",
       "       [3. ],\n",
       "       [3.8],\n",
       "       [2.6],\n",
       "       [2.2],\n",
       "       [3.2],\n",
       "       [2.8],\n",
       "       [2.8],\n",
       "       [2.7],\n",
       "       [3.3],\n",
       "       [3.2],\n",
       "       [2.8],\n",
       "       [3. ],\n",
       "       [2.8],\n",
       "       [3. ],\n",
       "       [2.8],\n",
       "       [3.8],\n",
       "       [2.8],\n",
       "       [2.8],\n",
       "       [2.6],\n",
       "       [3. ],\n",
       "       [3.4],\n",
       "       [3.1],\n",
       "       [3. ],\n",
       "       [3.1],\n",
       "       [3.1],\n",
       "       [3.1],\n",
       "       [2.7],\n",
       "       [3.2],\n",
       "       [3.3],\n",
       "       [3. ],\n",
       "       [2.5],\n",
       "       [3. ],\n",
       "       [3.4],\n",
       "       [3. ]])"
      ]
     },
     "execution_count": 30,
     "metadata": {},
     "output_type": "execute_result"
    }
   ],
   "source": [
    "xnew"
   ]
  },
  {
   "cell_type": "markdown",
   "metadata": {},
   "source": [
    "- How do we asses this score? What is the benchmark?\n",
    "-What would be the acuracy of random guessing?"
   ]
  },
  {
   "cell_type": "code",
   "execution_count": null,
   "metadata": {},
   "outputs": [],
   "source": [
    "import sys\n",
    "!{sys.executable} -m pip install mlxtend\n"
   ]
  },
  {
   "cell_type": "code",
   "execution_count": 32,
   "metadata": {},
   "outputs": [],
   "source": [
    "from mlxtend.plotting import plot_decision_regions"
   ]
  },
  {
   "cell_type": "code",
   "execution_count": 33,
   "metadata": {},
   "outputs": [],
   "source": [
    "plot_decision_regions?"
   ]
  },
  {
   "cell_type": "code",
   "execution_count": 34,
   "metadata": {},
   "outputs": [
    {
     "data": {
      "text/plain": [
       "Text(0.5, 0, 'sepal length [cm]')"
      ]
     },
     "execution_count": 34,
     "metadata": {},
     "output_type": "execute_result"
    },
    {
     "data": {
      "image/png": "[encoded data removed]",
      "text/plain": [
       "<Figure size 432x288 with 1 Axes>"
      ]
     },
     "metadata": {
      "needs_background": "light"
     },
     "output_type": "display_data"
    }
   ],
   "source": [
    "plot_decision_regions(xnew,y,clf=model,legend=1)\n",
    "plt.xlabel('sepal length [cm]')\n",
    "#markers show the true class"
   ]
  },
  {
   "cell_type": "code",
   "execution_count": 35,
   "metadata": {},
   "outputs": [
    {
     "name": "stdout",
     "output_type": "stream",
     "text": [
      "0.82\n",
      "              precision    recall  f1-score   support\n",
      "\n",
      "           0       1.00      1.00      1.00        50\n",
      "           1       0.73      0.74      0.73        50\n",
      "           2       0.73      0.72      0.73        50\n",
      "\n",
      "    accuracy                           0.82       150\n",
      "   macro avg       0.82      0.82      0.82       150\n",
      "weighted avg       0.82      0.82      0.82       150\n",
      "\n"
     ]
    }
   ],
   "source": [
    "xnew=x[:,0:2]\n",
    "#using the first two features\n",
    "model=linear_model.LogisticRegression(max_iter=1000)\n",
    "model.fit(xnew,y)\n",
    "ypred=model.predict(xnew)\n",
    "ypred_ps=model.predict_proba(xnew)\n",
    "\n",
    "print(model.score(xnew,y))\n",
    "print(classification_report(y,ypred))"
   ]
  },
  {
   "cell_type": "code",
   "execution_count": 36,
   "metadata": {},
   "outputs": [
    {
     "data": {
      "text/plain": [
       "Text(0, 0.5, 'sepal width [cm]')"
      ]
     },
     "execution_count": 36,
     "metadata": {},
     "output_type": "execute_result"
    },
    {
     "data": {
      "image/png": "[encoded data removed]",
      "text/plain": [
       "<Figure size 432x288 with 1 Axes>"
      ]
     },
     "metadata": {
      "needs_background": "light"
     },
     "output_type": "display_data"
    }
   ],
   "source": [
    "plot_decision_regions(xnew,y,clf=model,legend=2)\n",
    "plt.xlabel('sepal length [cm]')\n",
    "plt.ylabel('sepal width [cm]')"
   ]
  },
  {
   "cell_type": "markdown",
   "metadata": {},
   "source": [
    "Adding features"
   ]
  },
  {
   "cell_type": "code",
   "execution_count": 37,
   "metadata": {},
   "outputs": [
    {
     "name": "stdout",
     "output_type": "stream",
     "text": [
      "0.96\n",
      "              precision    recall  f1-score   support\n",
      "\n",
      "           0       1.00      1.00      1.00        50\n",
      "           1       0.94      0.94      0.94        50\n",
      "           2       0.94      0.94      0.94        50\n",
      "\n",
      "    accuracy                           0.96       150\n",
      "   macro avg       0.96      0.96      0.96       150\n",
      "weighted avg       0.96      0.96      0.96       150\n",
      "\n"
     ]
    }
   ],
   "source": [
    "xnew=x[:,0:3]\n",
    "\n",
    "model=linear_model.LogisticRegression(max_iter=1000)\n",
    "model.fit(xnew,y)\n",
    "ypred=model.predict(xnew)\n",
    "ypred_ps=model.predict_proba(xnew)\n",
    "\n",
    "print(model.score(xnew,y))\n",
    "print(classification_report(y,ypred))"
   ]
  },
  {
   "cell_type": "code",
   "execution_count": 38,
   "metadata": {},
   "outputs": [
    {
     "name": "stdout",
     "output_type": "stream",
     "text": [
      "0.9733333333333334\n",
      "              precision    recall  f1-score   support\n",
      "\n",
      "           0       1.00      1.00      1.00        50\n",
      "           1       0.98      0.94      0.96        50\n",
      "           2       0.94      0.98      0.96        50\n",
      "\n",
      "    accuracy                           0.97       150\n",
      "   macro avg       0.97      0.97      0.97       150\n",
      "weighted avg       0.97      0.97      0.97       150\n",
      "\n"
     ]
    }
   ],
   "source": [
    "xnew=x \n",
    "\n",
    "model=linear_model.LogisticRegression(max_iter=1000)\n",
    "model.fit(xnew,y)\n",
    "ypred=model.predict(xnew)\n",
    "ypred_ps=model.predict_proba(xnew)\n",
    "\n",
    "print(model.score(xnew,y))\n",
    "print(classification_report(y,ypred))"
   ]
  },
  {
   "cell_type": "markdown",
   "metadata": {},
   "source": [
    "### Non-linear patterns"
   ]
  },
  {
   "cell_type": "code",
   "execution_count": 48,
   "metadata": {},
   "outputs": [
    {
     "name": "stdout",
     "output_type": "stream",
     "text": [
      "0.512\n",
      "              precision    recall  f1-score   support\n",
      "\n",
      "           0       0.51      0.52      0.51       250\n",
      "           1       0.51      0.51      0.51       250\n",
      "\n",
      "    accuracy                           0.51       500\n",
      "   macro avg       0.51      0.51      0.51       500\n",
      "weighted avg       0.51      0.51      0.51       500\n",
      "\n"
     ]
    },
    {
     "data": {
      "image/png": "[encoded data removed]",
      "text/plain": [
       "<Figure size 432x288 with 1 Axes>"
      ]
     },
     "metadata": {
      "needs_background": "light"
     },
     "output_type": "display_data"
    }
   ],
   "source": [
    "from sklearn.datasets import make_circles\n",
    "\n",
    "x,y=make_circles(n_samples=500,noise=.2,factor=.6)\n",
    "#change noise the ratio of diameters\n",
    "\n",
    "model=linear_model.LogisticRegression(max_iter=1000)\n",
    "model.fit(x,y)\n",
    "ypred=model.predict(x)\n",
    "\n",
    "\n",
    "plot_decision_regions(x,y,clf=model,legend=2);\n",
    "\n",
    "\n",
    "print(model.score(x,y))\n",
    "print(classification_report(y,ypred))\n",
    "#notice the accuracy"
   ]
  },
  {
   "cell_type": "markdown",
   "metadata": {},
   "source": [
    "- We want to add non-linear terms to capture the nonlinearity in the data pattern.\n",
    "- if we have two features, how many new parameters are added? \n",
    "\n",
    "- $f(x)=w_0+w_1X_1+w_2X_2$\n",
    "- $g(x)=w_0+w_1X_1+w_2X_2+w_{11}X_1^2+w_{22}X_2^2+w_{12}X_1X_2$"
   ]
  },
  {
   "cell_type": "code",
   "execution_count": 49,
   "metadata": {
    "scrolled": true
   },
   "outputs": [
    {
     "name": "stdout",
     "output_type": "stream",
     "text": [
      "0.838\n",
      "              precision    recall  f1-score   support\n",
      "\n",
      "           0       0.86      0.81      0.83       250\n",
      "           1       0.82      0.86      0.84       250\n",
      "\n",
      "    accuracy                           0.84       500\n",
      "   macro avg       0.84      0.84      0.84       500\n",
      "weighted avg       0.84      0.84      0.84       500\n",
      "\n"
     ]
    },
    {
     "data": {
      "image/png": "[encoded data removed]",
      "text/plain": [
       "<Figure size 432x288 with 1 Axes>"
      ]
     },
     "metadata": {
      "needs_background": "light"
     },
     "output_type": "display_data"
    }
   ],
   "source": [
    "x,y=make_circles(n_samples=500,noise=.2,factor=.6)\n",
    "\n",
    "from sklearn.preprocessing import PolynomialFeatures\n",
    "poly=PolynomialFeatures(degree=2)\n",
    "xnew=poly.fit_transform(x)\n",
    "\n",
    "\n",
    "\n",
    "model2=linear_model.LogisticRegression(max_iter=1000)\n",
    "model2.fit(xnew,y)\n",
    "ypred=model2.predict(xnew)\n",
    "\n",
    "plot_decision_regions(x,y,clf=model,legend=2); \n",
    "#showing the boundries with basic logistic regression classifier\n",
    "\n",
    "print(model2.score(xnew,y))\n",
    "print(classification_report(y,ypred))"
   ]
  },
  {
   "cell_type": "code",
   "execution_count": 50,
   "metadata": {},
   "outputs": [
    {
     "data": {
      "text/plain": [
       "array([[ 1.        ,  0.95852402,  0.73272741,  0.9187683 ,  0.70233683,\n",
       "         0.53688946],\n",
       "       [ 1.        ,  0.59599111, -0.98520672,  0.3552054 , -0.58717444,\n",
       "         0.97063228],\n",
       "       [ 1.        ,  0.42826875, -0.44497634,  0.18341412, -0.19056946,\n",
       "         0.19800394],\n",
       "       ...,\n",
       "       [ 1.        ,  0.73897416,  0.21609938,  0.54608282,  0.15969186,\n",
       "         0.04669894],\n",
       "       [ 1.        ,  1.13884207,  0.48392941,  1.29696126,  0.55111917,\n",
       "         0.23418768],\n",
       "       [ 1.        ,  0.77427557, -0.46285882,  0.59950265, -0.35838028,\n",
       "         0.21423829]])"
      ]
     },
     "execution_count": 50,
     "metadata": {},
     "output_type": "execute_result"
    }
   ],
   "source": [
    "xnew"
   ]
  },
  {
   "cell_type": "markdown",
   "metadata": {},
   "source": [
    "### Titanic dataset"
   ]
  },
  {
   "cell_type": "code",
   "execution_count": 51,
   "metadata": {},
   "outputs": [],
   "source": [
    "df=pd.read_csv(\"titanic_data.csv\")"
   ]
  },
  {
   "cell_type": "code",
   "execution_count": 52,
   "metadata": {},
   "outputs": [
    {
     "name": "stdout",
     "output_type": "stream",
     "text": [
      "<class 'pandas.core.frame.DataFrame'>\n",
      "RangeIndex: 891 entries, 0 to 890\n",
      "Data columns (total 12 columns):\n",
      " #   Column       Non-Null Count  Dtype  \n",
      "---  ------       --------------  -----  \n",
      " 0   PassengerId  891 non-null    int64  \n",
      " 1   Survived     891 non-null    int64  \n",
      " 2   Pclass       891 non-null    int64  \n",
      " 3   Name         891 non-null    object \n",
      " 4   Sex          891 non-null    object \n",
      " 5   Age          714 non-null    float64\n",
      " 6   SibSp        891 non-null    int64  \n",
      " 7   Parch        891 non-null    int64  \n",
      " 8   Ticket       891 non-null    object \n",
      " 9   Fare         891 non-null    float64\n",
      " 10  Cabin        204 non-null    object \n",
      " 11  Embarked     889 non-null    object \n",
      "dtypes: float64(2), int64(5), object(5)\n",
      "memory usage: 83.7+ KB\n"
     ]
    }
   ],
   "source": [
    "df.info()"
   ]
  },
  {
   "cell_type": "markdown",
   "metadata": {},
   "source": [
    "Only fousing on 4 features"
   ]
  },
  {
   "cell_type": "code",
   "execution_count": 53,
   "metadata": {},
   "outputs": [],
   "source": [
    "D=df[[\"Pclass\",\"Sex\",\"Fare\",\"Survived\"]]"
   ]
  },
  {
   "cell_type": "code",
   "execution_count": 54,
   "metadata": {},
   "outputs": [
    {
     "data": {
      "text/html": [
       "<div>\n",
       "<style scoped>\n",
       "    .dataframe tbody tr th:only-of-type {\n",
       "        vertical-align: middle;\n",
       "    }\n",
       "\n",
       "    .dataframe tbody tr th {\n",
       "        vertical-align: top;\n",
       "    }\n",
       "\n",
       "    .dataframe thead th {\n",
       "        text-align: right;\n",
       "    }\n",
       "</style>\n",
       "<table border=\"1\" class=\"dataframe\">\n",
       "  <thead>\n",
       "    <tr style=\"text-align: right;\">\n",
       "      <th></th>\n",
       "      <th>Pclass</th>\n",
       "      <th>Sex</th>\n",
       "      <th>Fare</th>\n",
       "      <th>Survived</th>\n",
       "    </tr>\n",
       "  </thead>\n",
       "  <tbody>\n",
       "    <tr>\n",
       "      <th>0</th>\n",
       "      <td>3</td>\n",
       "      <td>male</td>\n",
       "      <td>7.2500</td>\n",
       "      <td>0</td>\n",
       "    </tr>\n",
       "    <tr>\n",
       "      <th>1</th>\n",
       "      <td>1</td>\n",
       "      <td>female</td>\n",
       "      <td>71.2833</td>\n",
       "      <td>1</td>\n",
       "    </tr>\n",
       "    <tr>\n",
       "      <th>2</th>\n",
       "      <td>3</td>\n",
       "      <td>female</td>\n",
       "      <td>7.9250</td>\n",
       "      <td>1</td>\n",
       "    </tr>\n",
       "    <tr>\n",
       "      <th>3</th>\n",
       "      <td>1</td>\n",
       "      <td>female</td>\n",
       "      <td>53.1000</td>\n",
       "      <td>1</td>\n",
       "    </tr>\n",
       "    <tr>\n",
       "      <th>4</th>\n",
       "      <td>3</td>\n",
       "      <td>male</td>\n",
       "      <td>8.0500</td>\n",
       "      <td>0</td>\n",
       "    </tr>\n",
       "    <tr>\n",
       "      <th>...</th>\n",
       "      <td>...</td>\n",
       "      <td>...</td>\n",
       "      <td>...</td>\n",
       "      <td>...</td>\n",
       "    </tr>\n",
       "    <tr>\n",
       "      <th>886</th>\n",
       "      <td>2</td>\n",
       "      <td>male</td>\n",
       "      <td>13.0000</td>\n",
       "      <td>0</td>\n",
       "    </tr>\n",
       "    <tr>\n",
       "      <th>887</th>\n",
       "      <td>1</td>\n",
       "      <td>female</td>\n",
       "      <td>30.0000</td>\n",
       "      <td>1</td>\n",
       "    </tr>\n",
       "    <tr>\n",
       "      <th>888</th>\n",
       "      <td>3</td>\n",
       "      <td>female</td>\n",
       "      <td>23.4500</td>\n",
       "      <td>0</td>\n",
       "    </tr>\n",
       "    <tr>\n",
       "      <th>889</th>\n",
       "      <td>1</td>\n",
       "      <td>male</td>\n",
       "      <td>30.0000</td>\n",
       "      <td>1</td>\n",
       "    </tr>\n",
       "    <tr>\n",
       "      <th>890</th>\n",
       "      <td>3</td>\n",
       "      <td>male</td>\n",
       "      <td>7.7500</td>\n",
       "      <td>0</td>\n",
       "    </tr>\n",
       "  </tbody>\n",
       "</table>\n",
       "<p>891 rows × 4 columns</p>\n",
       "</div>"
      ],
      "text/plain": [
       "     Pclass     Sex     Fare  Survived\n",
       "0         3    male   7.2500         0\n",
       "1         1  female  71.2833         1\n",
       "2         3  female   7.9250         1\n",
       "3         1  female  53.1000         1\n",
       "4         3    male   8.0500         0\n",
       "..      ...     ...      ...       ...\n",
       "886       2    male  13.0000         0\n",
       "887       1  female  30.0000         1\n",
       "888       3  female  23.4500         0\n",
       "889       1    male  30.0000         1\n",
       "890       3    male   7.7500         0\n",
       "\n",
       "[891 rows x 4 columns]"
      ]
     },
     "execution_count": 54,
     "metadata": {},
     "output_type": "execute_result"
    }
   ],
   "source": [
    "D"
   ]
  },
  {
   "cell_type": "markdown",
   "metadata": {},
   "source": [
    "- Is 1,2,3 for Pclass interpreted as real numbers?\n",
    "\n",
    "- All the categorical variables should be translated to numbers before the analysis"
   ]
  },
  {
   "cell_type": "code",
   "execution_count": 55,
   "metadata": {},
   "outputs": [
    {
     "data": {
      "text/html": [
       "<div>\n",
       "<style scoped>\n",
       "    .dataframe tbody tr th:only-of-type {\n",
       "        vertical-align: middle;\n",
       "    }\n",
       "\n",
       "    .dataframe tbody tr th {\n",
       "        vertical-align: top;\n",
       "    }\n",
       "\n",
       "    .dataframe thead th {\n",
       "        text-align: right;\n",
       "    }\n",
       "</style>\n",
       "<table border=\"1\" class=\"dataframe\">\n",
       "  <thead>\n",
       "    <tr style=\"text-align: right;\">\n",
       "      <th></th>\n",
       "      <th>1</th>\n",
       "      <th>2</th>\n",
       "      <th>3</th>\n",
       "    </tr>\n",
       "  </thead>\n",
       "  <tbody>\n",
       "    <tr>\n",
       "      <th>0</th>\n",
       "      <td>0</td>\n",
       "      <td>0</td>\n",
       "      <td>1</td>\n",
       "    </tr>\n",
       "    <tr>\n",
       "      <th>1</th>\n",
       "      <td>1</td>\n",
       "      <td>0</td>\n",
       "      <td>0</td>\n",
       "    </tr>\n",
       "    <tr>\n",
       "      <th>2</th>\n",
       "      <td>0</td>\n",
       "      <td>0</td>\n",
       "      <td>1</td>\n",
       "    </tr>\n",
       "    <tr>\n",
       "      <th>3</th>\n",
       "      <td>1</td>\n",
       "      <td>0</td>\n",
       "      <td>0</td>\n",
       "    </tr>\n",
       "    <tr>\n",
       "      <th>4</th>\n",
       "      <td>0</td>\n",
       "      <td>0</td>\n",
       "      <td>1</td>\n",
       "    </tr>\n",
       "    <tr>\n",
       "      <th>...</th>\n",
       "      <td>...</td>\n",
       "      <td>...</td>\n",
       "      <td>...</td>\n",
       "    </tr>\n",
       "    <tr>\n",
       "      <th>886</th>\n",
       "      <td>0</td>\n",
       "      <td>1</td>\n",
       "      <td>0</td>\n",
       "    </tr>\n",
       "    <tr>\n",
       "      <th>887</th>\n",
       "      <td>1</td>\n",
       "      <td>0</td>\n",
       "      <td>0</td>\n",
       "    </tr>\n",
       "    <tr>\n",
       "      <th>888</th>\n",
       "      <td>0</td>\n",
       "      <td>0</td>\n",
       "      <td>1</td>\n",
       "    </tr>\n",
       "    <tr>\n",
       "      <th>889</th>\n",
       "      <td>1</td>\n",
       "      <td>0</td>\n",
       "      <td>0</td>\n",
       "    </tr>\n",
       "    <tr>\n",
       "      <th>890</th>\n",
       "      <td>0</td>\n",
       "      <td>0</td>\n",
       "      <td>1</td>\n",
       "    </tr>\n",
       "  </tbody>\n",
       "</table>\n",
       "<p>891 rows × 3 columns</p>\n",
       "</div>"
      ],
      "text/plain": [
       "     1  2  3\n",
       "0    0  0  1\n",
       "1    1  0  0\n",
       "2    0  0  1\n",
       "3    1  0  0\n",
       "4    0  0  1\n",
       "..  .. .. ..\n",
       "886  0  1  0\n",
       "887  1  0  0\n",
       "888  0  0  1\n",
       "889  1  0  0\n",
       "890  0  0  1\n",
       "\n",
       "[891 rows x 3 columns]"
      ]
     },
     "execution_count": 55,
     "metadata": {},
     "output_type": "execute_result"
    }
   ],
   "source": [
    "dum=pd.get_dummies(D[\"Pclass\"])\n",
    "dum"
   ]
  },
  {
   "cell_type": "code",
   "execution_count": 56,
   "metadata": {},
   "outputs": [
    {
     "data": {
      "text/html": [
       "<div>\n",
       "<style scoped>\n",
       "    .dataframe tbody tr th:only-of-type {\n",
       "        vertical-align: middle;\n",
       "    }\n",
       "\n",
       "    .dataframe tbody tr th {\n",
       "        vertical-align: top;\n",
       "    }\n",
       "\n",
       "    .dataframe thead th {\n",
       "        text-align: right;\n",
       "    }\n",
       "</style>\n",
       "<table border=\"1\" class=\"dataframe\">\n",
       "  <thead>\n",
       "    <tr style=\"text-align: right;\">\n",
       "      <th></th>\n",
       "      <th>Pclass</th>\n",
       "      <th>Sex</th>\n",
       "      <th>Fare</th>\n",
       "      <th>Survived</th>\n",
       "      <th>1</th>\n",
       "      <th>2</th>\n",
       "      <th>3</th>\n",
       "    </tr>\n",
       "  </thead>\n",
       "  <tbody>\n",
       "    <tr>\n",
       "      <th>0</th>\n",
       "      <td>3</td>\n",
       "      <td>male</td>\n",
       "      <td>7.2500</td>\n",
       "      <td>0</td>\n",
       "      <td>0</td>\n",
       "      <td>0</td>\n",
       "      <td>1</td>\n",
       "    </tr>\n",
       "    <tr>\n",
       "      <th>1</th>\n",
       "      <td>1</td>\n",
       "      <td>female</td>\n",
       "      <td>71.2833</td>\n",
       "      <td>1</td>\n",
       "      <td>1</td>\n",
       "      <td>0</td>\n",
       "      <td>0</td>\n",
       "    </tr>\n",
       "    <tr>\n",
       "      <th>2</th>\n",
       "      <td>3</td>\n",
       "      <td>female</td>\n",
       "      <td>7.9250</td>\n",
       "      <td>1</td>\n",
       "      <td>0</td>\n",
       "      <td>0</td>\n",
       "      <td>1</td>\n",
       "    </tr>\n",
       "    <tr>\n",
       "      <th>3</th>\n",
       "      <td>1</td>\n",
       "      <td>female</td>\n",
       "      <td>53.1000</td>\n",
       "      <td>1</td>\n",
       "      <td>1</td>\n",
       "      <td>0</td>\n",
       "      <td>0</td>\n",
       "    </tr>\n",
       "    <tr>\n",
       "      <th>4</th>\n",
       "      <td>3</td>\n",
       "      <td>male</td>\n",
       "      <td>8.0500</td>\n",
       "      <td>0</td>\n",
       "      <td>0</td>\n",
       "      <td>0</td>\n",
       "      <td>1</td>\n",
       "    </tr>\n",
       "    <tr>\n",
       "      <th>...</th>\n",
       "      <td>...</td>\n",
       "      <td>...</td>\n",
       "      <td>...</td>\n",
       "      <td>...</td>\n",
       "      <td>...</td>\n",
       "      <td>...</td>\n",
       "      <td>...</td>\n",
       "    </tr>\n",
       "    <tr>\n",
       "      <th>886</th>\n",
       "      <td>2</td>\n",
       "      <td>male</td>\n",
       "      <td>13.0000</td>\n",
       "      <td>0</td>\n",
       "      <td>0</td>\n",
       "      <td>1</td>\n",
       "      <td>0</td>\n",
       "    </tr>\n",
       "    <tr>\n",
       "      <th>887</th>\n",
       "      <td>1</td>\n",
       "      <td>female</td>\n",
       "      <td>30.0000</td>\n",
       "      <td>1</td>\n",
       "      <td>1</td>\n",
       "      <td>0</td>\n",
       "      <td>0</td>\n",
       "    </tr>\n",
       "    <tr>\n",
       "      <th>888</th>\n",
       "      <td>3</td>\n",
       "      <td>female</td>\n",
       "      <td>23.4500</td>\n",
       "      <td>0</td>\n",
       "      <td>0</td>\n",
       "      <td>0</td>\n",
       "      <td>1</td>\n",
       "    </tr>\n",
       "    <tr>\n",
       "      <th>889</th>\n",
       "      <td>1</td>\n",
       "      <td>male</td>\n",
       "      <td>30.0000</td>\n",
       "      <td>1</td>\n",
       "      <td>1</td>\n",
       "      <td>0</td>\n",
       "      <td>0</td>\n",
       "    </tr>\n",
       "    <tr>\n",
       "      <th>890</th>\n",
       "      <td>3</td>\n",
       "      <td>male</td>\n",
       "      <td>7.7500</td>\n",
       "      <td>0</td>\n",
       "      <td>0</td>\n",
       "      <td>0</td>\n",
       "      <td>1</td>\n",
       "    </tr>\n",
       "  </tbody>\n",
       "</table>\n",
       "<p>891 rows × 7 columns</p>\n",
       "</div>"
      ],
      "text/plain": [
       "     Pclass     Sex     Fare  Survived  1  2  3\n",
       "0         3    male   7.2500         0  0  0  1\n",
       "1         1  female  71.2833         1  1  0  0\n",
       "2         3  female   7.9250         1  0  0  1\n",
       "3         1  female  53.1000         1  1  0  0\n",
       "4         3    male   8.0500         0  0  0  1\n",
       "..      ...     ...      ...       ... .. .. ..\n",
       "886       2    male  13.0000         0  0  1  0\n",
       "887       1  female  30.0000         1  1  0  0\n",
       "888       3  female  23.4500         0  0  0  1\n",
       "889       1    male  30.0000         1  1  0  0\n",
       "890       3    male   7.7500         0  0  0  1\n",
       "\n",
       "[891 rows x 7 columns]"
      ]
     },
     "execution_count": 56,
     "metadata": {},
     "output_type": "execute_result"
    }
   ],
   "source": [
    "D=D.join(dum)\n",
    "D"
   ]
  },
  {
   "cell_type": "code",
   "execution_count": 57,
   "metadata": {},
   "outputs": [
    {
     "data": {
      "text/html": [
       "<div>\n",
       "<style scoped>\n",
       "    .dataframe tbody tr th:only-of-type {\n",
       "        vertical-align: middle;\n",
       "    }\n",
       "\n",
       "    .dataframe tbody tr th {\n",
       "        vertical-align: top;\n",
       "    }\n",
       "\n",
       "    .dataframe thead th {\n",
       "        text-align: right;\n",
       "    }\n",
       "</style>\n",
       "<table border=\"1\" class=\"dataframe\">\n",
       "  <thead>\n",
       "    <tr style=\"text-align: right;\">\n",
       "      <th></th>\n",
       "      <th>Pclass</th>\n",
       "      <th>Sex</th>\n",
       "      <th>Fare</th>\n",
       "      <th>Survived</th>\n",
       "      <th>1</th>\n",
       "      <th>2</th>\n",
       "      <th>3</th>\n",
       "      <th>female</th>\n",
       "      <th>male</th>\n",
       "    </tr>\n",
       "  </thead>\n",
       "  <tbody>\n",
       "    <tr>\n",
       "      <th>0</th>\n",
       "      <td>3</td>\n",
       "      <td>male</td>\n",
       "      <td>7.2500</td>\n",
       "      <td>0</td>\n",
       "      <td>0</td>\n",
       "      <td>0</td>\n",
       "      <td>1</td>\n",
       "      <td>0</td>\n",
       "      <td>1</td>\n",
       "    </tr>\n",
       "    <tr>\n",
       "      <th>1</th>\n",
       "      <td>1</td>\n",
       "      <td>female</td>\n",
       "      <td>71.2833</td>\n",
       "      <td>1</td>\n",
       "      <td>1</td>\n",
       "      <td>0</td>\n",
       "      <td>0</td>\n",
       "      <td>1</td>\n",
       "      <td>0</td>\n",
       "    </tr>\n",
       "    <tr>\n",
       "      <th>2</th>\n",
       "      <td>3</td>\n",
       "      <td>female</td>\n",
       "      <td>7.9250</td>\n",
       "      <td>1</td>\n",
       "      <td>0</td>\n",
       "      <td>0</td>\n",
       "      <td>1</td>\n",
       "      <td>1</td>\n",
       "      <td>0</td>\n",
       "    </tr>\n",
       "    <tr>\n",
       "      <th>3</th>\n",
       "      <td>1</td>\n",
       "      <td>female</td>\n",
       "      <td>53.1000</td>\n",
       "      <td>1</td>\n",
       "      <td>1</td>\n",
       "      <td>0</td>\n",
       "      <td>0</td>\n",
       "      <td>1</td>\n",
       "      <td>0</td>\n",
       "    </tr>\n",
       "    <tr>\n",
       "      <th>4</th>\n",
       "      <td>3</td>\n",
       "      <td>male</td>\n",
       "      <td>8.0500</td>\n",
       "      <td>0</td>\n",
       "      <td>0</td>\n",
       "      <td>0</td>\n",
       "      <td>1</td>\n",
       "      <td>0</td>\n",
       "      <td>1</td>\n",
       "    </tr>\n",
       "    <tr>\n",
       "      <th>...</th>\n",
       "      <td>...</td>\n",
       "      <td>...</td>\n",
       "      <td>...</td>\n",
       "      <td>...</td>\n",
       "      <td>...</td>\n",
       "      <td>...</td>\n",
       "      <td>...</td>\n",
       "      <td>...</td>\n",
       "      <td>...</td>\n",
       "    </tr>\n",
       "    <tr>\n",
       "      <th>886</th>\n",
       "      <td>2</td>\n",
       "      <td>male</td>\n",
       "      <td>13.0000</td>\n",
       "      <td>0</td>\n",
       "      <td>0</td>\n",
       "      <td>1</td>\n",
       "      <td>0</td>\n",
       "      <td>0</td>\n",
       "      <td>1</td>\n",
       "    </tr>\n",
       "    <tr>\n",
       "      <th>887</th>\n",
       "      <td>1</td>\n",
       "      <td>female</td>\n",
       "      <td>30.0000</td>\n",
       "      <td>1</td>\n",
       "      <td>1</td>\n",
       "      <td>0</td>\n",
       "      <td>0</td>\n",
       "      <td>1</td>\n",
       "      <td>0</td>\n",
       "    </tr>\n",
       "    <tr>\n",
       "      <th>888</th>\n",
       "      <td>3</td>\n",
       "      <td>female</td>\n",
       "      <td>23.4500</td>\n",
       "      <td>0</td>\n",
       "      <td>0</td>\n",
       "      <td>0</td>\n",
       "      <td>1</td>\n",
       "      <td>1</td>\n",
       "      <td>0</td>\n",
       "    </tr>\n",
       "    <tr>\n",
       "      <th>889</th>\n",
       "      <td>1</td>\n",
       "      <td>male</td>\n",
       "      <td>30.0000</td>\n",
       "      <td>1</td>\n",
       "      <td>1</td>\n",
       "      <td>0</td>\n",
       "      <td>0</td>\n",
       "      <td>0</td>\n",
       "      <td>1</td>\n",
       "    </tr>\n",
       "    <tr>\n",
       "      <th>890</th>\n",
       "      <td>3</td>\n",
       "      <td>male</td>\n",
       "      <td>7.7500</td>\n",
       "      <td>0</td>\n",
       "      <td>0</td>\n",
       "      <td>0</td>\n",
       "      <td>1</td>\n",
       "      <td>0</td>\n",
       "      <td>1</td>\n",
       "    </tr>\n",
       "  </tbody>\n",
       "</table>\n",
       "<p>891 rows × 9 columns</p>\n",
       "</div>"
      ],
      "text/plain": [
       "     Pclass     Sex     Fare  Survived  1  2  3  female  male\n",
       "0         3    male   7.2500         0  0  0  1       0     1\n",
       "1         1  female  71.2833         1  1  0  0       1     0\n",
       "2         3  female   7.9250         1  0  0  1       1     0\n",
       "3         1  female  53.1000         1  1  0  0       1     0\n",
       "4         3    male   8.0500         0  0  0  1       0     1\n",
       "..      ...     ...      ...       ... .. .. ..     ...   ...\n",
       "886       2    male  13.0000         0  0  1  0       0     1\n",
       "887       1  female  30.0000         1  1  0  0       1     0\n",
       "888       3  female  23.4500         0  0  0  1       1     0\n",
       "889       1    male  30.0000         1  1  0  0       0     1\n",
       "890       3    male   7.7500         0  0  0  1       0     1\n",
       "\n",
       "[891 rows x 9 columns]"
      ]
     },
     "execution_count": 57,
     "metadata": {},
     "output_type": "execute_result"
    }
   ],
   "source": [
    "dum=pd.get_dummies(D[\"Sex\"])\n",
    "D=D.join(dum)\n",
    "D\n"
   ]
  },
  {
   "cell_type": "code",
   "execution_count": 58,
   "metadata": {},
   "outputs": [],
   "source": [
    "D.drop([\"Pclass\",\"Sex\"],axis=1,inplace=True)\n"
   ]
  },
  {
   "cell_type": "code",
   "execution_count": 59,
   "metadata": {},
   "outputs": [
    {
     "data": {
      "text/html": [
       "<div>\n",
       "<style scoped>\n",
       "    .dataframe tbody tr th:only-of-type {\n",
       "        vertical-align: middle;\n",
       "    }\n",
       "\n",
       "    .dataframe tbody tr th {\n",
       "        vertical-align: top;\n",
       "    }\n",
       "\n",
       "    .dataframe thead th {\n",
       "        text-align: right;\n",
       "    }\n",
       "</style>\n",
       "<table border=\"1\" class=\"dataframe\">\n",
       "  <thead>\n",
       "    <tr style=\"text-align: right;\">\n",
       "      <th></th>\n",
       "      <th>Fare</th>\n",
       "      <th>Survived</th>\n",
       "      <th>1</th>\n",
       "      <th>2</th>\n",
       "      <th>3</th>\n",
       "      <th>female</th>\n",
       "      <th>male</th>\n",
       "    </tr>\n",
       "  </thead>\n",
       "  <tbody>\n",
       "    <tr>\n",
       "      <th>0</th>\n",
       "      <td>7.2500</td>\n",
       "      <td>0</td>\n",
       "      <td>0</td>\n",
       "      <td>0</td>\n",
       "      <td>1</td>\n",
       "      <td>0</td>\n",
       "      <td>1</td>\n",
       "    </tr>\n",
       "    <tr>\n",
       "      <th>1</th>\n",
       "      <td>71.2833</td>\n",
       "      <td>1</td>\n",
       "      <td>1</td>\n",
       "      <td>0</td>\n",
       "      <td>0</td>\n",
       "      <td>1</td>\n",
       "      <td>0</td>\n",
       "    </tr>\n",
       "    <tr>\n",
       "      <th>2</th>\n",
       "      <td>7.9250</td>\n",
       "      <td>1</td>\n",
       "      <td>0</td>\n",
       "      <td>0</td>\n",
       "      <td>1</td>\n",
       "      <td>1</td>\n",
       "      <td>0</td>\n",
       "    </tr>\n",
       "    <tr>\n",
       "      <th>3</th>\n",
       "      <td>53.1000</td>\n",
       "      <td>1</td>\n",
       "      <td>1</td>\n",
       "      <td>0</td>\n",
       "      <td>0</td>\n",
       "      <td>1</td>\n",
       "      <td>0</td>\n",
       "    </tr>\n",
       "    <tr>\n",
       "      <th>4</th>\n",
       "      <td>8.0500</td>\n",
       "      <td>0</td>\n",
       "      <td>0</td>\n",
       "      <td>0</td>\n",
       "      <td>1</td>\n",
       "      <td>0</td>\n",
       "      <td>1</td>\n",
       "    </tr>\n",
       "    <tr>\n",
       "      <th>...</th>\n",
       "      <td>...</td>\n",
       "      <td>...</td>\n",
       "      <td>...</td>\n",
       "      <td>...</td>\n",
       "      <td>...</td>\n",
       "      <td>...</td>\n",
       "      <td>...</td>\n",
       "    </tr>\n",
       "    <tr>\n",
       "      <th>886</th>\n",
       "      <td>13.0000</td>\n",
       "      <td>0</td>\n",
       "      <td>0</td>\n",
       "      <td>1</td>\n",
       "      <td>0</td>\n",
       "      <td>0</td>\n",
       "      <td>1</td>\n",
       "    </tr>\n",
       "    <tr>\n",
       "      <th>887</th>\n",
       "      <td>30.0000</td>\n",
       "      <td>1</td>\n",
       "      <td>1</td>\n",
       "      <td>0</td>\n",
       "      <td>0</td>\n",
       "      <td>1</td>\n",
       "      <td>0</td>\n",
       "    </tr>\n",
       "    <tr>\n",
       "      <th>888</th>\n",
       "      <td>23.4500</td>\n",
       "      <td>0</td>\n",
       "      <td>0</td>\n",
       "      <td>0</td>\n",
       "      <td>1</td>\n",
       "      <td>1</td>\n",
       "      <td>0</td>\n",
       "    </tr>\n",
       "    <tr>\n",
       "      <th>889</th>\n",
       "      <td>30.0000</td>\n",
       "      <td>1</td>\n",
       "      <td>1</td>\n",
       "      <td>0</td>\n",
       "      <td>0</td>\n",
       "      <td>0</td>\n",
       "      <td>1</td>\n",
       "    </tr>\n",
       "    <tr>\n",
       "      <th>890</th>\n",
       "      <td>7.7500</td>\n",
       "      <td>0</td>\n",
       "      <td>0</td>\n",
       "      <td>0</td>\n",
       "      <td>1</td>\n",
       "      <td>0</td>\n",
       "      <td>1</td>\n",
       "    </tr>\n",
       "  </tbody>\n",
       "</table>\n",
       "<p>891 rows × 7 columns</p>\n",
       "</div>"
      ],
      "text/plain": [
       "        Fare  Survived  1  2  3  female  male\n",
       "0     7.2500         0  0  0  1       0     1\n",
       "1    71.2833         1  1  0  0       1     0\n",
       "2     7.9250         1  0  0  1       1     0\n",
       "3    53.1000         1  1  0  0       1     0\n",
       "4     8.0500         0  0  0  1       0     1\n",
       "..       ...       ... .. .. ..     ...   ...\n",
       "886  13.0000         0  0  1  0       0     1\n",
       "887  30.0000         1  1  0  0       1     0\n",
       "888  23.4500         0  0  0  1       1     0\n",
       "889  30.0000         1  1  0  0       0     1\n",
       "890   7.7500         0  0  0  1       0     1\n",
       "\n",
       "[891 rows x 7 columns]"
      ]
     },
     "execution_count": 59,
     "metadata": {},
     "output_type": "execute_result"
    }
   ],
   "source": [
    "D"
   ]
  },
  {
   "cell_type": "code",
   "execution_count": 60,
   "metadata": {},
   "outputs": [
    {
     "data": {
      "text/html": [
       "<div>\n",
       "<style scoped>\n",
       "    .dataframe tbody tr th:only-of-type {\n",
       "        vertical-align: middle;\n",
       "    }\n",
       "\n",
       "    .dataframe tbody tr th {\n",
       "        vertical-align: top;\n",
       "    }\n",
       "\n",
       "    .dataframe thead th {\n",
       "        text-align: right;\n",
       "    }\n",
       "</style>\n",
       "<table border=\"1\" class=\"dataframe\">\n",
       "  <thead>\n",
       "    <tr style=\"text-align: right;\">\n",
       "      <th></th>\n",
       "      <th>price</th>\n",
       "      <th>survived</th>\n",
       "      <th>pclass1</th>\n",
       "      <th>pclass2</th>\n",
       "      <th>pclass3</th>\n",
       "      <th>female</th>\n",
       "      <th>male</th>\n",
       "    </tr>\n",
       "  </thead>\n",
       "  <tbody>\n",
       "    <tr>\n",
       "      <th>0</th>\n",
       "      <td>7.2500</td>\n",
       "      <td>0</td>\n",
       "      <td>0</td>\n",
       "      <td>0</td>\n",
       "      <td>1</td>\n",
       "      <td>0</td>\n",
       "      <td>1</td>\n",
       "    </tr>\n",
       "    <tr>\n",
       "      <th>1</th>\n",
       "      <td>71.2833</td>\n",
       "      <td>1</td>\n",
       "      <td>1</td>\n",
       "      <td>0</td>\n",
       "      <td>0</td>\n",
       "      <td>1</td>\n",
       "      <td>0</td>\n",
       "    </tr>\n",
       "    <tr>\n",
       "      <th>2</th>\n",
       "      <td>7.9250</td>\n",
       "      <td>1</td>\n",
       "      <td>0</td>\n",
       "      <td>0</td>\n",
       "      <td>1</td>\n",
       "      <td>1</td>\n",
       "      <td>0</td>\n",
       "    </tr>\n",
       "    <tr>\n",
       "      <th>3</th>\n",
       "      <td>53.1000</td>\n",
       "      <td>1</td>\n",
       "      <td>1</td>\n",
       "      <td>0</td>\n",
       "      <td>0</td>\n",
       "      <td>1</td>\n",
       "      <td>0</td>\n",
       "    </tr>\n",
       "    <tr>\n",
       "      <th>4</th>\n",
       "      <td>8.0500</td>\n",
       "      <td>0</td>\n",
       "      <td>0</td>\n",
       "      <td>0</td>\n",
       "      <td>1</td>\n",
       "      <td>0</td>\n",
       "      <td>1</td>\n",
       "    </tr>\n",
       "    <tr>\n",
       "      <th>...</th>\n",
       "      <td>...</td>\n",
       "      <td>...</td>\n",
       "      <td>...</td>\n",
       "      <td>...</td>\n",
       "      <td>...</td>\n",
       "      <td>...</td>\n",
       "      <td>...</td>\n",
       "    </tr>\n",
       "    <tr>\n",
       "      <th>886</th>\n",
       "      <td>13.0000</td>\n",
       "      <td>0</td>\n",
       "      <td>0</td>\n",
       "      <td>1</td>\n",
       "      <td>0</td>\n",
       "      <td>0</td>\n",
       "      <td>1</td>\n",
       "    </tr>\n",
       "    <tr>\n",
       "      <th>887</th>\n",
       "      <td>30.0000</td>\n",
       "      <td>1</td>\n",
       "      <td>1</td>\n",
       "      <td>0</td>\n",
       "      <td>0</td>\n",
       "      <td>1</td>\n",
       "      <td>0</td>\n",
       "    </tr>\n",
       "    <tr>\n",
       "      <th>888</th>\n",
       "      <td>23.4500</td>\n",
       "      <td>0</td>\n",
       "      <td>0</td>\n",
       "      <td>0</td>\n",
       "      <td>1</td>\n",
       "      <td>1</td>\n",
       "      <td>0</td>\n",
       "    </tr>\n",
       "    <tr>\n",
       "      <th>889</th>\n",
       "      <td>30.0000</td>\n",
       "      <td>1</td>\n",
       "      <td>1</td>\n",
       "      <td>0</td>\n",
       "      <td>0</td>\n",
       "      <td>0</td>\n",
       "      <td>1</td>\n",
       "    </tr>\n",
       "    <tr>\n",
       "      <th>890</th>\n",
       "      <td>7.7500</td>\n",
       "      <td>0</td>\n",
       "      <td>0</td>\n",
       "      <td>0</td>\n",
       "      <td>1</td>\n",
       "      <td>0</td>\n",
       "      <td>1</td>\n",
       "    </tr>\n",
       "  </tbody>\n",
       "</table>\n",
       "<p>891 rows × 7 columns</p>\n",
       "</div>"
      ],
      "text/plain": [
       "       price  survived  pclass1  pclass2  pclass3  female  male\n",
       "0     7.2500         0        0        0        1       0     1\n",
       "1    71.2833         1        1        0        0       1     0\n",
       "2     7.9250         1        0        0        1       1     0\n",
       "3    53.1000         1        1        0        0       1     0\n",
       "4     8.0500         0        0        0        1       0     1\n",
       "..       ...       ...      ...      ...      ...     ...   ...\n",
       "886  13.0000         0        0        1        0       0     1\n",
       "887  30.0000         1        1        0        0       1     0\n",
       "888  23.4500         0        0        0        1       1     0\n",
       "889  30.0000         1        1        0        0       0     1\n",
       "890   7.7500         0        0        0        1       0     1\n",
       "\n",
       "[891 rows x 7 columns]"
      ]
     },
     "execution_count": 60,
     "metadata": {},
     "output_type": "execute_result"
    }
   ],
   "source": [
    "D.columns=[\"price\",\"survived\",\"pclass1\",\"pclass2\",\"pclass3\",\"female\",\"male\"]\n",
    "D"
   ]
  },
  {
   "cell_type": "code",
   "execution_count": 61,
   "metadata": {},
   "outputs": [],
   "source": [
    "#we want to have survived as the class\n",
    "\n",
    "D=D[[\"price\",\"pclass1\",\"pclass2\",\"pclass3\",\"female\",\"male\",\"survived\"]]"
   ]
  },
  {
   "cell_type": "code",
   "execution_count": 62,
   "metadata": {},
   "outputs": [
    {
     "data": {
      "text/html": [
       "<div>\n",
       "<style scoped>\n",
       "    .dataframe tbody tr th:only-of-type {\n",
       "        vertical-align: middle;\n",
       "    }\n",
       "\n",
       "    .dataframe tbody tr th {\n",
       "        vertical-align: top;\n",
       "    }\n",
       "\n",
       "    .dataframe thead th {\n",
       "        text-align: right;\n",
       "    }\n",
       "</style>\n",
       "<table border=\"1\" class=\"dataframe\">\n",
       "  <thead>\n",
       "    <tr style=\"text-align: right;\">\n",
       "      <th></th>\n",
       "      <th>price</th>\n",
       "      <th>pclass1</th>\n",
       "      <th>pclass2</th>\n",
       "      <th>pclass3</th>\n",
       "      <th>female</th>\n",
       "      <th>male</th>\n",
       "      <th>survived</th>\n",
       "    </tr>\n",
       "  </thead>\n",
       "  <tbody>\n",
       "    <tr>\n",
       "      <th>0</th>\n",
       "      <td>7.2500</td>\n",
       "      <td>0</td>\n",
       "      <td>0</td>\n",
       "      <td>1</td>\n",
       "      <td>0</td>\n",
       "      <td>1</td>\n",
       "      <td>0</td>\n",
       "    </tr>\n",
       "    <tr>\n",
       "      <th>1</th>\n",
       "      <td>71.2833</td>\n",
       "      <td>1</td>\n",
       "      <td>0</td>\n",
       "      <td>0</td>\n",
       "      <td>1</td>\n",
       "      <td>0</td>\n",
       "      <td>1</td>\n",
       "    </tr>\n",
       "    <tr>\n",
       "      <th>2</th>\n",
       "      <td>7.9250</td>\n",
       "      <td>0</td>\n",
       "      <td>0</td>\n",
       "      <td>1</td>\n",
       "      <td>1</td>\n",
       "      <td>0</td>\n",
       "      <td>1</td>\n",
       "    </tr>\n",
       "    <tr>\n",
       "      <th>3</th>\n",
       "      <td>53.1000</td>\n",
       "      <td>1</td>\n",
       "      <td>0</td>\n",
       "      <td>0</td>\n",
       "      <td>1</td>\n",
       "      <td>0</td>\n",
       "      <td>1</td>\n",
       "    </tr>\n",
       "    <tr>\n",
       "      <th>4</th>\n",
       "      <td>8.0500</td>\n",
       "      <td>0</td>\n",
       "      <td>0</td>\n",
       "      <td>1</td>\n",
       "      <td>0</td>\n",
       "      <td>1</td>\n",
       "      <td>0</td>\n",
       "    </tr>\n",
       "    <tr>\n",
       "      <th>...</th>\n",
       "      <td>...</td>\n",
       "      <td>...</td>\n",
       "      <td>...</td>\n",
       "      <td>...</td>\n",
       "      <td>...</td>\n",
       "      <td>...</td>\n",
       "      <td>...</td>\n",
       "    </tr>\n",
       "    <tr>\n",
       "      <th>886</th>\n",
       "      <td>13.0000</td>\n",
       "      <td>0</td>\n",
       "      <td>1</td>\n",
       "      <td>0</td>\n",
       "      <td>0</td>\n",
       "      <td>1</td>\n",
       "      <td>0</td>\n",
       "    </tr>\n",
       "    <tr>\n",
       "      <th>887</th>\n",
       "      <td>30.0000</td>\n",
       "      <td>1</td>\n",
       "      <td>0</td>\n",
       "      <td>0</td>\n",
       "      <td>1</td>\n",
       "      <td>0</td>\n",
       "      <td>1</td>\n",
       "    </tr>\n",
       "    <tr>\n",
       "      <th>888</th>\n",
       "      <td>23.4500</td>\n",
       "      <td>0</td>\n",
       "      <td>0</td>\n",
       "      <td>1</td>\n",
       "      <td>1</td>\n",
       "      <td>0</td>\n",
       "      <td>0</td>\n",
       "    </tr>\n",
       "    <tr>\n",
       "      <th>889</th>\n",
       "      <td>30.0000</td>\n",
       "      <td>1</td>\n",
       "      <td>0</td>\n",
       "      <td>0</td>\n",
       "      <td>0</td>\n",
       "      <td>1</td>\n",
       "      <td>1</td>\n",
       "    </tr>\n",
       "    <tr>\n",
       "      <th>890</th>\n",
       "      <td>7.7500</td>\n",
       "      <td>0</td>\n",
       "      <td>0</td>\n",
       "      <td>1</td>\n",
       "      <td>0</td>\n",
       "      <td>1</td>\n",
       "      <td>0</td>\n",
       "    </tr>\n",
       "  </tbody>\n",
       "</table>\n",
       "<p>891 rows × 7 columns</p>\n",
       "</div>"
      ],
      "text/plain": [
       "       price  pclass1  pclass2  pclass3  female  male  survived\n",
       "0     7.2500        0        0        1       0     1         0\n",
       "1    71.2833        1        0        0       1     0         1\n",
       "2     7.9250        0        0        1       1     0         1\n",
       "3    53.1000        1        0        0       1     0         1\n",
       "4     8.0500        0        0        1       0     1         0\n",
       "..       ...      ...      ...      ...     ...   ...       ...\n",
       "886  13.0000        0        1        0       0     1         0\n",
       "887  30.0000        1        0        0       1     0         1\n",
       "888  23.4500        0        0        1       1     0         0\n",
       "889  30.0000        1        0        0       0     1         1\n",
       "890   7.7500        0        0        1       0     1         0\n",
       "\n",
       "[891 rows x 7 columns]"
      ]
     },
     "execution_count": 62,
     "metadata": {},
     "output_type": "execute_result"
    }
   ],
   "source": [
    "D"
   ]
  },
  {
   "cell_type": "code",
   "execution_count": 73,
   "metadata": {},
   "outputs": [],
   "source": [
    "x=D[[\"price\",\"pclass1\",\"pclass2\",\"pclass3\",\"female\",\"male\"]]\n",
    "y=D[\"survived\"]"
   ]
  },
  {
   "cell_type": "code",
   "execution_count": 74,
   "metadata": {},
   "outputs": [
    {
     "name": "stdout",
     "output_type": "stream",
     "text": [
      "0.7623318385650224\n",
      "              precision    recall  f1-score   support\n",
      "\n",
      "           0       0.79      0.84      0.81       138\n",
      "           1       0.71      0.64      0.67        85\n",
      "\n",
      "    accuracy                           0.76       223\n",
      "   macro avg       0.75      0.74      0.74       223\n",
      "weighted avg       0.76      0.76      0.76       223\n",
      "\n"
     ]
    }
   ],
   "source": [
    "xtrain,xtest,ytrain,ytest=train_test_split(x,y,test_size=0.25)\n",
    "\n",
    "model=linear_model.LogisticRegression(max_iter=1000)\n",
    "model.fit(xtrain,ytrain)\n",
    "\n",
    "ypred=model.predict(xtest)\n",
    "ypred_ps=model.predict_proba(xtest)\n",
    "\n",
    "print(model.score(xtest,ytest))\n",
    "print(classification_report(ytest,ypred))"
   ]
  },
  {
   "cell_type": "code",
   "execution_count": 75,
   "metadata": {},
   "outputs": [
    {
     "data": {
      "text/plain": [
       "array([[0.91194623, 0.08805377],\n",
       "       [0.90954736, 0.09045264],\n",
       "       [0.41564461, 0.58435539],\n",
       "       [0.89685941, 0.10314059],\n",
       "       [0.10223586, 0.89776414],\n",
       "       [0.61403459, 0.38596541],\n",
       "       [0.76707544, 0.23292456],\n",
       "       [0.63873626, 0.36126374],\n",
       "       [0.63873626, 0.36126374],\n",
       "       [0.76189416, 0.23810584]])"
      ]
     },
     "execution_count": 75,
     "metadata": {},
     "output_type": "execute_result"
    }
   ],
   "source": [
    "#for binary classifications, these are actually probabilities\n",
    "ypred_ps[:10]"
   ]
  },
  {
   "cell_type": "markdown",
   "metadata": {},
   "source": [
    "How to asses accuracy? Is the data blanaced?"
   ]
  },
  {
   "cell_type": "code",
   "execution_count": 76,
   "metadata": {},
   "outputs": [
    {
     "data": {
      "text/plain": [
       "0.3838383838383838"
      ]
     },
     "execution_count": 76,
     "metadata": {},
     "output_type": "execute_result"
    }
   ],
   "source": [
    "y.mean()"
   ]
  },
  {
   "cell_type": "code",
   "execution_count": 77,
   "metadata": {},
   "outputs": [
    {
     "name": "stdout",
     "output_type": "stream",
     "text": [
      "0.7856341189674523\n",
      "              precision    recall  f1-score   support\n",
      "\n",
      "           0       0.81      0.85      0.83       549\n",
      "           1       0.74      0.69      0.71       342\n",
      "\n",
      "    accuracy                           0.79       891\n",
      "   macro avg       0.77      0.77      0.77       891\n",
      "weighted avg       0.78      0.79      0.78       891\n",
      "\n"
     ]
    }
   ],
   "source": [
    " \n",
    "model=linear_model.LogisticRegression(max_iter=1000)\n",
    "model.fit(x,y)\n",
    "\n",
    "ypred=model.predict(x)\n",
    "ypred_ps=model.predict_proba(x)\n",
    "\n",
    "print(model.score(x,y))\n",
    "print(classification_report(y,ypred))"
   ]
  },
  {
   "cell_type": "code",
   "execution_count": 78,
   "metadata": {},
   "outputs": [
    {
     "name": "stdout",
     "output_type": "stream",
     "text": [
      "[[465  84]\n",
      " [107 235]]\n"
     ]
    }
   ],
   "source": [
    "cm=metrics.confusion_matrix(y,ypred)\n",
    "print(cm)"
   ]
  },
  {
   "cell_type": "code",
   "execution_count": 79,
   "metadata": {},
   "outputs": [],
   "source": [
    "tn, fp, fn, tp= metrics.confusion_matrix(y,ypred).ravel()"
   ]
  },
  {
   "cell_type": "code",
   "execution_count": 80,
   "metadata": {},
   "outputs": [
    {
     "data": {
      "text/plain": [
       "(465, 84, 107, 235)"
      ]
     },
     "execution_count": 80,
     "metadata": {},
     "output_type": "execute_result"
    }
   ],
   "source": [
    "(tn,fp,fn,tp)\n",
    "#interpret these numbers"
   ]
  },
  {
   "cell_type": "markdown",
   "metadata": {},
   "source": [
    "### ROC curve\n",
    "\n",
    "- We use ROC curve to tune hyper parameters\n",
    "- True positive rate: recall\n",
    "- False positive rate: 1-specificity\n",
    "\n",
    "- For imblanaced datasets, precision vs recall curve is more common. "
   ]
  },
  {
   "cell_type": "code",
   "execution_count": 81,
   "metadata": {},
   "outputs": [
    {
     "data": {
      "image/png": "[encoded data removed]",
      "text/plain": [
       "<Figure size 432x288 with 1 Axes>"
      ]
     },
     "metadata": {
      "needs_background": "light"
     },
     "output_type": "display_data"
    }
   ],
   "source": [
    "metrics.plot_roc_curve(model,x,y)\n",
    "plt.plot([0,1],[0,1])\n",
    "plt.show()"
   ]
  },
  {
   "cell_type": "markdown",
   "metadata": {},
   "source": [
    "- AUC summerizes the performance of this classfier and can be sued to compare different classifiers.\n",
    "- Find the points on the curve that correspond to Threshold=0 and Threshold=1.\n"
   ]
  },
  {
   "cell_type": "code",
   "execution_count": 84,
   "metadata": {},
   "outputs": [],
   "source": [
    "fpr,tpr,thresholds=metrics.roc_curve(y,ypred_ps[:,1])"
   ]
  },
  {
   "cell_type": "code",
   "execution_count": 85,
   "metadata": {},
   "outputs": [
    {
     "name": "stdout",
     "output_type": "stream",
     "text": [
      "[0.         0.         0.         0.         0.         0.\n",
      " 0.00364299 0.00364299 0.00364299 0.00364299 0.00364299 0.00364299\n",
      " 0.00364299 0.00364299 0.00364299 0.00364299 0.00364299 0.00364299\n",
      " 0.00364299 0.00364299 0.00364299 0.00364299 0.00364299 0.00364299\n",
      " 0.00364299 0.00364299 0.00364299 0.00364299 0.00364299 0.00364299\n",
      " 0.00364299 0.00364299 0.00546448 0.00546448 0.00546448 0.00546448\n",
      " 0.00546448 0.00546448 0.00546448 0.00910747 0.00910747 0.00910747\n",
      " 0.01092896 0.01092896 0.01092896 0.01457195 0.01457195 0.01457195\n",
      " 0.01457195 0.01639344 0.01639344 0.02185792 0.02550091 0.0273224\n",
      " 0.03278689 0.03278689 0.04189435 0.04371585 0.05464481 0.0582878\n",
      " 0.06010929 0.06010929 0.06010929 0.06010929 0.06557377 0.06557377\n",
      " 0.06739526 0.06739526 0.07103825 0.07285974 0.07285974 0.07285974\n",
      " 0.07468124 0.07468124 0.07468124 0.07650273 0.08014572 0.08196721\n",
      " 0.0856102  0.09289617 0.09471767 0.09471767 0.09471767 0.09471767\n",
      " 0.09471767 0.09653916 0.10018215 0.10018215 0.10200364 0.10564663\n",
      " 0.10746812 0.10928962 0.10928962 0.11111111 0.11111111 0.1147541\n",
      " 0.11657559 0.12021858 0.12021858 0.12386157 0.12568306 0.12568306\n",
      " 0.12932605 0.12932605 0.13296903 0.1420765  0.1420765  0.1420765\n",
      " 0.1420765  0.143898   0.14571949 0.14571949 0.14571949 0.14754098\n",
      " 0.15118397 0.16029144 0.16029144 0.16211293 0.16211293 0.16211293\n",
      " 0.16393443 0.16575592 0.16939891 0.16939891 0.1712204  0.1712204\n",
      " 0.17486339 0.17486339 0.17668488 0.18032787 0.18214936 0.18579235\n",
      " 0.18579235 0.18943534 0.18943534 0.19489982 0.19489982 0.19672131\n",
      " 0.19672131 0.2003643  0.2003643  0.20765027 0.22404372 0.22586521\n",
      " 0.23497268 0.23679417 0.24043716 0.24225865 0.24408015 0.24772313\n",
      " 0.25136612 0.2568306  0.26958106 0.26958106 0.26958106 0.27322404\n",
      " 0.27868852 0.29690346 0.29872495 0.30418944 0.30783242 0.30783242\n",
      " 0.3132969  0.31693989 0.33879781 0.34061931 0.34608379 0.34608379\n",
      " 0.35154827 0.35154827 0.35336976 0.35336976 0.35883424 0.40255009\n",
      " 0.40983607 0.41712204 0.44262295 0.45355191 0.46083789 0.46448087\n",
      " 0.47176685 0.48087432 0.48269581 0.4845173  0.48816029 0.49544627\n",
      " 0.50091075 0.50273224 0.51183971 0.5136612  0.5136612  0.51912568\n",
      " 0.52276867 0.52641166 0.53005464 0.53187614 0.53551913 0.54644809\n",
      " 0.54644809 0.55009107 0.55009107 0.55191257 0.55919854 0.55919854\n",
      " 0.56102004 0.56830601 0.5701275  0.57377049 0.57741348 0.57741348\n",
      " 0.58105647 0.59380692 0.59744991 0.6010929  0.60291439 0.60655738\n",
      " 0.60837887 0.62659381 0.6284153  0.6284153  0.63934426 0.63934426\n",
      " 0.70491803 0.71948998 0.78506375 0.78870674 0.80327869 0.80692168\n",
      " 0.81420765 0.83424408 0.86520947 0.86885246 0.87249545 0.87613843\n",
      " 0.88160291 0.8852459  0.8870674  0.89071038 0.89253188 0.9143898\n",
      " 0.93442623 0.95081967 0.95081967 0.95810565 0.96174863 0.97449909\n",
      " 0.97632058 0.97814208 0.98360656 0.98724954 0.99453552 1.        ]\n"
     ]
    }
   ],
   "source": [
    "print(fpr)"
   ]
  },
  {
   "cell_type": "code",
   "execution_count": 86,
   "metadata": {},
   "outputs": [
    {
     "data": {
      "text/plain": [
       "array([1.95822223, 0.95822223, 0.93153101, 0.92952472, 0.92440836,\n",
       "       0.91551257, 0.91520296, 0.91239701, 0.91225495, 0.90837176,\n",
       "       0.90759346, 0.90530345, 0.90486893, 0.90467465, 0.90451311,\n",
       "       0.90404211, 0.9034924 , 0.90343468, 0.90325453, 0.90279328,\n",
       "       0.90264649, 0.90253934, 0.90248264, 0.90119559, 0.90087885,\n",
       "       0.89901633, 0.8987465 , 0.89835047, 0.89781498, 0.8977103 ,\n",
       "       0.89760392, 0.89330107, 0.89304439, 0.89255861, 0.8079351 ,\n",
       "       0.80663483, 0.80622712, 0.80598219, 0.80573702, 0.80565524,\n",
       "       0.8050001 , 0.80467189, 0.80401424, 0.8035199 , 0.80153313,\n",
       "       0.80136688, 0.80125045, 0.80115061, 0.80103408, 0.80053409,\n",
       "       0.63711365, 0.61938148, 0.60816317, 0.60456615, 0.60190941,\n",
       "       0.60041273, 0.60035633, 0.59927801, 0.59744101, 0.59677916,\n",
       "       0.59642715, 0.59632656, 0.59587798, 0.59571027, 0.59523212,\n",
       "       0.59481673, 0.59479785, 0.59431724, 0.59368318, 0.59358237,\n",
       "       0.59338073, 0.59302778, 0.59272518, 0.59259907, 0.59254444,\n",
       "       0.5924225 , 0.59229425, 0.59191789, 0.59189684, 0.59189478,\n",
       "       0.59186742, 0.59137103, 0.59089546, 0.59027237, 0.5902176 ,\n",
       "       0.58990596, 0.58987856, 0.58956472, 0.5895626 , 0.58955628,\n",
       "       0.58943619, 0.5893793 , 0.58931609, 0.58906322, 0.5889789 ,\n",
       "       0.58896838, 0.5887028 , 0.58865853, 0.58864801, 0.58859529,\n",
       "       0.58858051, 0.58857211, 0.58855946, 0.58852571, 0.58851939,\n",
       "       0.58850674, 0.58850041, 0.58849829, 0.58845614, 0.58844561,\n",
       "       0.58840554, 0.58825372, 0.58824107, 0.58800065, 0.51047282,\n",
       "       0.45339176, 0.45240161, 0.44417645, 0.4431536 , 0.43612738,\n",
       "       0.43267498, 0.43144871, 0.42916511, 0.4213284 , 0.42077872,\n",
       "       0.4203226 , 0.41679695, 0.41663824, 0.41551721, 0.41528887,\n",
       "       0.4151113 , 0.41431886, 0.41403582, 0.40891062, 0.40727449,\n",
       "       0.40617371, 0.40403575, 0.40351805, 0.40328759, 0.40211069,\n",
       "       0.40183655, 0.40155824, 0.39479892, 0.3933022 , 0.39171825,\n",
       "       0.39106087, 0.39090952, 0.39081212, 0.39056342, 0.39041423,\n",
       "       0.38944499, 0.38943048, 0.38884896, 0.38876828, 0.38871863,\n",
       "       0.3885759 , 0.37820342, 0.25949672, 0.2468873 , 0.24501596,\n",
       "       0.24244355, 0.24203286, 0.24126706, 0.24098031, 0.24088478,\n",
       "       0.24012145, 0.23897957, 0.23812561, 0.23670701, 0.2365183 ,\n",
       "       0.2363297 , 0.23627786, 0.2361412 , 0.23595281, 0.23567982,\n",
       "       0.23538825, 0.2350124 , 0.23109108, 0.11076671, 0.10810847,\n",
       "       0.10619037, 0.10476847, 0.10373191, 0.103153  , 0.10313125,\n",
       "       0.10271648, 0.10248081, 0.10201411, 0.10176236, 0.10162875,\n",
       "       0.1015906 , 0.10117657, 0.10107211, 0.1010128 , 0.10096617,\n",
       "       0.10074274, 0.10055597, 0.10023516, 0.10019747, 0.10018806,\n",
       "       0.10016766, 0.10013156, 0.10012215, 0.1000743 , 0.10004687,\n",
       "       0.09993405, 0.09992621, 0.09992544, 0.09986046, 0.09930309,\n",
       "       0.09906274, 0.09899827, 0.09897032, 0.09894703, 0.09894548,\n",
       "       0.09890512, 0.0988516 , 0.09884229, 0.09884075, 0.09881516,\n",
       "       0.09874849, 0.09873998, 0.09872835, 0.09870512, 0.09869969,\n",
       "       0.09869582, 0.09869196, 0.09868188, 0.0986811 , 0.09867724,\n",
       "       0.09867259, 0.09867027, 0.09866949, 0.09866795, 0.09865401,\n",
       "       0.09863543, 0.09863001, 0.09862536, 0.09859132, 0.09857972,\n",
       "       0.09857585, 0.09857508, 0.09855961, 0.09855651, 0.09854337,\n",
       "       0.09854259, 0.09854181, 0.09852867, 0.09848692, 0.09843977,\n",
       "       0.09798023, 0.09724175])"
      ]
     },
     "execution_count": 86,
     "metadata": {},
     "output_type": "execute_result"
    }
   ],
   "source": [
    "thresholds"
   ]
  },
  {
   "cell_type": "code",
   "execution_count": 87,
   "metadata": {},
   "outputs": [
    {
     "data": {
      "text/plain": [
       "array([0.        , 0.00292398, 0.01461988, 0.01754386, 0.03508772,\n",
       "       0.04678363, 0.0497076 , 0.06725146, 0.07017544, 0.0877193 ,\n",
       "       0.09356725, 0.0994152 , 0.10233918, 0.10818713, 0.11111111,\n",
       "       0.11988304, 0.12280702, 0.13157895, 0.13450292, 0.14619883,\n",
       "       0.15204678, 0.15789474, 0.16666667, 0.18128655, 0.1871345 ,\n",
       "       0.19298246, 0.19883041, 0.20760234, 0.21929825, 0.22222222,\n",
       "       0.22807018, 0.25146199, 0.25146199, 0.26023392, 0.28947368,\n",
       "       0.30116959, 0.30701754, 0.30994152, 0.32163743, 0.35672515,\n",
       "       0.35964912, 0.37134503, 0.37719298, 0.38304094, 0.40350877,\n",
       "       0.43859649, 0.44152047, 0.44736842, 0.4502924 , 0.47076023,\n",
       "       0.47660819, 0.47660819, 0.47660819, 0.47660819, 0.47660819,\n",
       "       0.48245614, 0.48245614, 0.48245614, 0.48245614, 0.48538012,\n",
       "       0.48538012, 0.48830409, 0.49415205, 0.49707602, 0.49707602,\n",
       "       0.50292398, 0.50292398, 0.51461988, 0.51461988, 0.51461988,\n",
       "       0.51754386, 0.52339181, 0.52923977, 0.53508772, 0.5380117 ,\n",
       "       0.54678363, 0.5497076 , 0.5497076 , 0.5497076 , 0.55263158,\n",
       "       0.55263158, 0.55555556, 0.56432749, 0.57017544, 0.57602339,\n",
       "       0.57602339, 0.57602339, 0.57894737, 0.57894737, 0.57894737,\n",
       "       0.58187135, 0.58187135, 0.58479532, 0.58479532, 0.5877193 ,\n",
       "       0.5877193 , 0.5877193 , 0.5877193 , 0.59064327, 0.5994152 ,\n",
       "       0.5994152 , 0.61111111, 0.61695906, 0.62280702, 0.62573099,\n",
       "       0.65497076, 0.65789474, 0.66374269, 0.66666667, 0.66666667,\n",
       "       0.66959064, 0.6754386 , 0.6871345 , 0.6871345 , 0.6871345 ,\n",
       "       0.6871345 , 0.69005848, 0.69005848, 0.69298246, 0.69883041,\n",
       "       0.69883041, 0.70175439, 0.70175439, 0.70467836, 0.70760234,\n",
       "       0.71052632, 0.71052632, 0.71345029, 0.71345029, 0.71637427,\n",
       "       0.71637427, 0.71637427, 0.72222222, 0.72222222, 0.7251462 ,\n",
       "       0.7251462 , 0.73099415, 0.73099415, 0.73391813, 0.73684211,\n",
       "       0.74269006, 0.74561404, 0.74561404, 0.75438596, 0.75438596,\n",
       "       0.75730994, 0.75730994, 0.76900585, 0.77777778, 0.78070175,\n",
       "       0.78070175, 0.78070175, 0.80116959, 0.80409357, 0.8128655 ,\n",
       "       0.8128655 , 0.8128655 , 0.8128655 , 0.8128655 , 0.82163743,\n",
       "       0.82163743, 0.8245614 , 0.8245614 , 0.8245614 , 0.83333333,\n",
       "       0.83333333, 0.83333333, 0.83918129, 0.83918129, 0.84210526,\n",
       "       0.84210526, 0.84502924, 0.84502924, 0.85672515, 0.85672515,\n",
       "       0.85672515, 0.8625731 , 0.8625731 , 0.8625731 , 0.87719298,\n",
       "       0.87719298, 0.87719298, 0.87719298, 0.88011696, 0.88011696,\n",
       "       0.88011696, 0.88011696, 0.88011696, 0.88011696, 0.88011696,\n",
       "       0.88304094, 0.88304094, 0.88888889, 0.88888889, 0.88888889,\n",
       "       0.89181287, 0.89181287, 0.89181287, 0.89766082, 0.89766082,\n",
       "       0.9005848 , 0.9005848 , 0.9005848 , 0.90643275, 0.90643275,\n",
       "       0.90643275, 0.90643275, 0.90643275, 0.90643275, 0.91520468,\n",
       "       0.91520468, 0.92105263, 0.92105263, 0.92105263, 0.92105263,\n",
       "       0.92105263, 0.92105263, 0.92397661, 0.92397661, 0.92690058,\n",
       "       0.92690058, 0.92982456, 0.94444444, 0.95906433, 0.9619883 ,\n",
       "       0.9619883 , 0.96491228, 0.96491228, 0.97076023, 0.97660819,\n",
       "       0.98245614, 0.98245614, 0.98245614, 0.98245614, 0.98245614,\n",
       "       0.98245614, 0.98245614, 0.98245614, 0.98245614, 0.98245614,\n",
       "       0.98830409, 0.99122807, 0.99415205, 0.99415205, 0.99415205,\n",
       "       0.99415205, 0.99415205, 0.99707602, 0.99707602, 0.99707602,\n",
       "       0.99707602, 1.        ])"
      ]
     },
     "execution_count": 87,
     "metadata": {},
     "output_type": "execute_result"
    }
   ],
   "source": [
    "tpr"
   ]
  },
  {
   "cell_type": "code",
   "execution_count": 82,
   "metadata": {},
   "outputs": [
    {
     "data": {
      "text/plain": [
       "0.8377645692859959"
      ]
     },
     "execution_count": 82,
     "metadata": {},
     "output_type": "execute_result"
    }
   ],
   "source": [
    "metrics.roc_auc_score(y,ypred_ps[:,1])"
   ]
  },
  {
   "cell_type": "code",
   "execution_count": null,
   "metadata": {},
   "outputs": [],
   "source": []
  }
 ],
 "metadata": {
  "kernelspec": {
   "display_name": "Python 3 (ipykernel)",
   "language": "python",
   "name": "python3"
  },
  "language_info": {
   "codemirror_mode": {
    "name": "ipython",
    "version": 3
   },
   "file_extension": ".py",
   "mimetype": "text/x-python",
   "name": "python",
   "nbconvert_exporter": "python",
   "pygments_lexer": "ipython3",
   "version": "3.8.8"
  }
 },
 "nbformat": 4,
 "nbformat_minor": 4
}
