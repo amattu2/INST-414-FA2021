{
 "cells": [
  {
   "cell_type": "code",
   "execution_count": null,
   "id": "0fe7cb34",
   "metadata": {},
   "outputs": [],
   "source": [
    "import networkx as nx\n",
    "import pandas as pd\n",
    "import numpy as np\n",
    "\n",
    "import matplotlib.pyplot as plt\n"
   ]
  },
  {
   "cell_type": "markdown",
   "id": "bd43e8a2",
   "metadata": {},
   "source": [
    "### Reading a network"
   ]
  },
  {
   "cell_type": "code",
   "execution_count": null,
   "id": "3e6b54b1",
   "metadata": {},
   "outputs": [],
   "source": [
    "df_edge = pd.read_csv('Zachary_karate_club_EdgeList.csv')\n",
    "\n",
    "df_edge"
   ]
  },
  {
   "cell_type": "code",
   "execution_count": null,
   "id": "a2c89f44",
   "metadata": {},
   "outputs": [],
   "source": [
    "df_group = pd.read_csv('zachary_karate_club_groups.txt',header=None, sep='\\t')\n",
    "df_group.columns=['Node', 'group']\n",
    "df_group"
   ]
  },
  {
   "cell_type": "code",
   "execution_count": null,
   "id": "d840e0a4",
   "metadata": {},
   "outputs": [],
   "source": [
    "G=nx.from_pandas_edgelist(df_edge,source='Source',target='Target')"
   ]
  },
  {
   "cell_type": "code",
   "execution_count": null,
   "id": "8fbd5070",
   "metadata": {},
   "outputs": [],
   "source": [
    "for node in G.nodes():\n",
    "    G.nodes[node][\"Group\"] = df_group.loc[node-1][\"group\"]"
   ]
  },
  {
   "cell_type": "markdown",
   "id": "7f2cc54d",
   "metadata": {},
   "source": [
    "### Basic Network Analysis"
   ]
  },
  {
   "cell_type": "code",
   "execution_count": null,
   "id": "becd8ce8",
   "metadata": {},
   "outputs": [],
   "source": [
    "G.nodes[21]"
   ]
  },
  {
   "cell_type": "code",
   "execution_count": null,
   "id": "4b870038",
   "metadata": {},
   "outputs": [],
   "source": [
    "list(G.nodes())[10:20]"
   ]
  },
  {
   "cell_type": "code",
   "execution_count": null,
   "id": "be983ec5",
   "metadata": {},
   "outputs": [],
   "source": [
    "list(G.nodes(data=True))[10:20]"
   ]
  },
  {
   "cell_type": "code",
   "execution_count": null,
   "id": "afaabdfe",
   "metadata": {},
   "outputs": [],
   "source": [
    "G.has_edge(24,26)"
   ]
  },
  {
   "cell_type": "code",
   "execution_count": null,
   "id": "3e413bfb",
   "metadata": {},
   "outputs": [],
   "source": [
    "G.has_edge(24,29)"
   ]
  },
  {
   "cell_type": "code",
   "execution_count": null,
   "id": "701adf9d",
   "metadata": {},
   "outputs": [],
   "source": [
    "G.number_of_nodes()"
   ]
  },
  {
   "cell_type": "code",
   "execution_count": null,
   "id": "e89e9c0c",
   "metadata": {},
   "outputs": [],
   "source": [
    "G.number_of_edges()"
   ]
  },
  {
   "cell_type": "code",
   "execution_count": null,
   "id": "c5625ecd",
   "metadata": {},
   "outputs": [],
   "source": [
    "nx.connected.is_connected(G)"
   ]
  },
  {
   "cell_type": "code",
   "execution_count": null,
   "id": "1ff7fbe8",
   "metadata": {},
   "outputs": [],
   "source": [
    "node_to_neighbors = [(node, list(G.neighbors(node))) for node in G.nodes()]\n",
    "node_to_neighbors[:5]"
   ]
  },
  {
   "cell_type": "code",
   "execution_count": null,
   "id": "f927c000",
   "metadata": {},
   "outputs": [],
   "source": [
    "G.degree(3)"
   ]
  },
  {
   "cell_type": "code",
   "execution_count": null,
   "id": "625b0256",
   "metadata": {},
   "outputs": [],
   "source": [
    "G.degree([1,2,3])"
   ]
  },
  {
   "cell_type": "code",
   "execution_count": null,
   "id": "2098e0c9",
   "metadata": {},
   "outputs": [],
   "source": [
    "nx.degree_histogram(G)"
   ]
  },
  {
   "cell_type": "code",
   "execution_count": null,
   "id": "1d368922",
   "metadata": {},
   "outputs": [],
   "source": [
    "nx.average_node_connectivity(G)"
   ]
  },
  {
   "cell_type": "code",
   "execution_count": null,
   "id": "0519b6f3",
   "metadata": {},
   "outputs": [],
   "source": [
    "nx.degree_mixing_dict(G)"
   ]
  },
  {
   "cell_type": "code",
   "execution_count": null,
   "id": "d62045ff",
   "metadata": {},
   "outputs": [],
   "source": [
    "nx.average_clustering(G)"
   ]
  },
  {
   "cell_type": "code",
   "execution_count": null,
   "id": "8fe6a4b8",
   "metadata": {},
   "outputs": [],
   "source": [
    "sorted(nx.degree_centrality(G).items(), key=lambda x : x[1], reverse=True)[:5]"
   ]
  },
  {
   "cell_type": "code",
   "execution_count": null,
   "id": "f9f9ab06",
   "metadata": {},
   "outputs": [],
   "source": [
    "nx.pagerank(G)"
   ]
  },
  {
   "cell_type": "markdown",
   "id": "74004cf4",
   "metadata": {},
   "source": [
    "### Paths, Shortest Paths, Diamater"
   ]
  },
  {
   "cell_type": "code",
   "execution_count": null,
   "id": "0212e59c",
   "metadata": {},
   "outputs": [],
   "source": [
    "nx.has_path(G,source=12,target=32)"
   ]
  },
  {
   "cell_type": "code",
   "execution_count": null,
   "id": "de1fe5c5",
   "metadata": {},
   "outputs": [],
   "source": [
    "nx.shortest_path(G, source=1, target=22)"
   ]
  },
  {
   "cell_type": "code",
   "execution_count": null,
   "id": "78361aec",
   "metadata": {},
   "outputs": [],
   "source": [
    "nx.shortest_path(G, source=1, target=23)"
   ]
  },
  {
   "cell_type": "code",
   "execution_count": null,
   "id": "4a6e0328",
   "metadata": {},
   "outputs": [],
   "source": [
    "nx.shortest_path(G, source=23, target=1)"
   ]
  },
  {
   "cell_type": "code",
   "execution_count": null,
   "id": "e9b3d713",
   "metadata": {},
   "outputs": [],
   "source": [
    "nx.average_shortest_path_length(G)"
   ]
  },
  {
   "cell_type": "code",
   "execution_count": null,
   "id": "cc13fc84",
   "metadata": {},
   "outputs": [],
   "source": [
    "nx.diameter(G)"
   ]
  },
  {
   "cell_type": "markdown",
   "id": "48ef313d",
   "metadata": {},
   "source": [
    "### Modifying Networks"
   ]
  },
  {
   "cell_type": "code",
   "execution_count": null,
   "id": "d3c36c02",
   "metadata": {},
   "outputs": [],
   "source": [
    "G.add_node(35, Group=\"1\")"
   ]
  },
  {
   "cell_type": "code",
   "execution_count": null,
   "id": "6953e4eb",
   "metadata": {},
   "outputs": [],
   "source": [
    "G.add_edge(35,31)"
   ]
  },
  {
   "cell_type": "code",
   "execution_count": null,
   "id": "0ef7322d",
   "metadata": {},
   "outputs": [],
   "source": [
    "G.add_edges_from([(35,2),(35,24),(35,13)])"
   ]
  },
  {
   "cell_type": "code",
   "execution_count": null,
   "id": "ca873f83",
   "metadata": {},
   "outputs": [],
   "source": [
    "G.update?"
   ]
  },
  {
   "cell_type": "code",
   "execution_count": null,
   "id": "3ce7c8c4",
   "metadata": {},
   "outputs": [],
   "source": [
    "G.remove"
   ]
  },
  {
   "cell_type": "markdown",
   "id": "4eb5b6bd",
   "metadata": {},
   "source": [
    "### Subgraphs"
   ]
  },
  {
   "cell_type": "code",
   "execution_count": null,
   "id": "1ed8fcdd",
   "metadata": {},
   "outputs": [],
   "source": [
    "shortest=nx.shortest_path(G, source=23, target=1)\n",
    "sub1= G.subgraph(shortest)"
   ]
  },
  {
   "cell_type": "code",
   "execution_count": null,
   "id": "dad6b3c8",
   "metadata": {},
   "outputs": [],
   "source": [
    "#induced subgraph contains the nodes in `nodes`and the edges between those nodes\n",
    "node_list=range(8)\n",
    "sub2=G.subgraph(node_list)"
   ]
  },
  {
   "cell_type": "code",
   "execution_count": null,
   "id": "c57bc1dd",
   "metadata": {},
   "outputs": [],
   "source": [
    "sub3=nx.ego_graph(G,21)"
   ]
  },
  {
   "cell_type": "code",
   "execution_count": null,
   "id": "967e320b",
   "metadata": {},
   "outputs": [],
   "source": [
    "sub4=nx.ego_graph(G,21,radius=2)"
   ]
  },
  {
   "cell_type": "markdown",
   "id": "d5e751ac",
   "metadata": {},
   "source": [
    "### Network Visualization"
   ]
  },
  {
   "cell_type": "code",
   "execution_count": null,
   "id": "d5dee148",
   "metadata": {
    "scrolled": true
   },
   "outputs": [],
   "source": [
    "nx.draw_circular(G, with_labels=True, \n",
    "                 font_weight='bold', node_color=\"green\", font_color=\"white\")"
   ]
  },
  {
   "cell_type": "code",
   "execution_count": null,
   "id": "1b00a5a0",
   "metadata": {},
   "outputs": [],
   "source": [
    "colors=['blue' if G.nodes[n]['Group']==1  else 'red' for n in G.nodes()  ]"
   ]
  },
  {
   "cell_type": "code",
   "execution_count": null,
   "id": "4d084b22",
   "metadata": {},
   "outputs": [],
   "source": [
    "colors"
   ]
  },
  {
   "cell_type": "code",
   "execution_count": null,
   "id": "cb144cea",
   "metadata": {},
   "outputs": [],
   "source": [
    "nx.draw_circular(G, with_labels=True, \n",
    "                 font_weight='bold', node_color=colors, font_color=\"white\")"
   ]
  },
  {
   "cell_type": "code",
   "execution_count": null,
   "id": "65e5b947",
   "metadata": {},
   "outputs": [],
   "source": [
    "nx.draw_circular(sub1, with_labels=True, node_color=\"lime\", font_color=\"red\")"
   ]
  },
  {
   "cell_type": "code",
   "execution_count": null,
   "id": "1b1090c4",
   "metadata": {},
   "outputs": [],
   "source": [
    "\n",
    "nx.draw_circular(sub2, with_labels=True, node_color=\"lime\", font_color=\"red\")"
   ]
  },
  {
   "cell_type": "code",
   "execution_count": null,
   "id": "e6f219e8",
   "metadata": {},
   "outputs": [],
   "source": [
    "nx.draw_circular(sub3, with_labels=True, node_color=\"lime\", font_color=\"red\")"
   ]
  },
  {
   "cell_type": "code",
   "execution_count": null,
   "id": "5aef9d98",
   "metadata": {},
   "outputs": [],
   "source": [
    "nx.draw_circular(sub4, with_labels=True, node_color=\"lime\", font_color=\"red\")"
   ]
  },
  {
   "cell_type": "markdown",
   "id": "21e0a4a0",
   "metadata": {},
   "source": [
    "### Explore"
   ]
  },
  {
   "cell_type": "code",
   "execution_count": null,
   "id": "1e9056a3",
   "metadata": {},
   "outputs": [],
   "source": [
    "nx.is"
   ]
  },
  {
   "cell_type": "code",
   "execution_count": null,
   "id": "4f499fe8",
   "metadata": {},
   "outputs": [],
   "source": [
    "nx.to"
   ]
  },
  {
   "cell_type": "code",
   "execution_count": null,
   "id": "37d50d17",
   "metadata": {},
   "outputs": [],
   "source": [
    "nx.from"
   ]
  },
  {
   "cell_type": "code",
   "execution_count": null,
   "id": "29ebda05",
   "metadata": {},
   "outputs": [],
   "source": [
    "nx.read"
   ]
  },
  {
   "cell_type": "code",
   "execution_count": null,
   "id": "03ce5a38",
   "metadata": {},
   "outputs": [],
   "source": [
    "nx.write"
   ]
  },
  {
   "cell_type": "code",
   "execution_count": null,
   "id": "c2a31c9b",
   "metadata": {},
   "outputs": [],
   "source": [
    "nx.write_edgelist(G,'updated_karate_club_edgelist')"
   ]
  },
  {
   "cell_type": "code",
   "execution_count": null,
   "id": "b39303a6",
   "metadata": {},
   "outputs": [],
   "source": [
    "nx.write_adjlist(G,'updated_karate_club_adjlist')"
   ]
  },
  {
   "cell_type": "code",
   "execution_count": null,
   "id": "983ac771",
   "metadata": {},
   "outputs": [],
   "source": []
  }
 ],
 "metadata": {
  "kernelspec": {
   "display_name": "Python 3",
   "language": "python",
   "name": "python3"
  },
  "language_info": {
   "codemirror_mode": {
    "name": "ipython",
    "version": 3
   },
   "file_extension": ".py",
   "mimetype": "text/x-python",
   "name": "python",
   "nbconvert_exporter": "python",
   "pygments_lexer": "ipython3",
   "version": "3.8.8"
  }
 },
 "nbformat": 4,
 "nbformat_minor": 5
}
