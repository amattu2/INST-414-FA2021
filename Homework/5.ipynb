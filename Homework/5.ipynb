{
 "cells": [
  {
   "cell_type": "markdown",
   "id": "ba0b1273",
   "metadata": {},
   "source": [
    "# Project 5 Example\n",
    "### Alec K. Mattu (UTA)\n",
    "### INST 414\n",
    "### 12/01/2021"
   ]
  },
  {
   "cell_type": "markdown",
   "id": "2b549550",
   "metadata": {},
   "source": [
    "# Instructions\n",
    "1. Use the columns  year,   L (which contains the number of words for each song), V (which contains the number of unique words for each song) and column D containing the ratio V/L  (no scaling  needed).\n",
    "\n",
    "2. Make a k-means clustering model to find 2 groups in your songs based on all 4 features.\n",
    "\n",
    "3. Create a scatter plot for 2 of the features (your choice). The points should be color-coded based on the clusters and the respective centroids should be added. Label the axes.\n",
    "\n",
    "4. Use different subsets of features and find one selection that looks more meaningful to you and interpret the plot in less than 50 words in a markdown cell below the plot. What do you think is the similarity in the this clustering? Use statements such as: \"Old songs are grouped together\".\n",
    "\n",
    "5. Now we want to investigate the effect of \"number of clusters\" on the \"cost function\". Change number of clusters between 1 and 19 and plot the cost function vs k. Label the axes. What is the best k in your opinion? Explain in less than 50 words in markdown cell below the plot.\n",
    "\n",
    "6. Create a DBSCAN clustering model. Choose 3 different values for eps and repeat the clustering in a separate cell. How many clusters are detected by your model and how does it depend on your choice of eps? Explain in less than 100 words in markdown cell."
   ]
  },
  {
   "cell_type": "markdown",
   "id": "9d762cab",
   "metadata": {},
   "source": [
    "# Solution"
   ]
  },
  {
   "cell_type": "markdown",
   "id": "24c10863",
   "metadata": {},
   "source": [
    "## Part 0 - Preparation"
   ]
  },
  {
   "cell_type": "code",
   "execution_count": 30,
   "id": "6155b55c",
   "metadata": {},
   "outputs": [],
   "source": [
    "# Import required libraries                               # HOMEWORK USAGE\n",
    "import csv                                                # *Importing CSV\n",
    "import pandas as pd                                       # General HW util\n",
    "import numpy as np                                        # General util\n",
    "import sklearn.metrics as metrics                         # LogisticRegression Metrics\n",
    "import sklearn.feature_extraction                         # Song Lengths (L, V)\n",
    "import matplotlib.pyplot as plt                           # General Graphing Util\n",
    "from sklearn import linear_model                          # LogisticRegression\n",
    "from sklearn.model_selection import train_test_split      # Splitting Training Data\n",
    "from sklearn.metrics import classification_report         # LogisticRegression Classification\n",
    "from mlxtend.plotting import plot_decision_regions        # Boundary Decision Graph\n",
    "from sklearn import cluster                               # Clustering #2"
   ]
  },
  {
   "cell_type": "code",
   "execution_count": 13,
   "id": "0ddbab18",
   "metadata": {
    "scrolled": true
   },
   "outputs": [],
   "source": [
    "# Hold songs in a list\n",
    "songs = []\n",
    "\n",
    "# Open CSV file with handle\n",
    "with open(\"dataset_out.csv\") as csv_file:\n",
    "    # Create a file reader\n",
    "    file_reader = csv.DictReader(csv_file)\n",
    "    \n",
    "    # Loop through CSV rows\n",
    "    for row in file_reader:\n",
    "        songs.append(row)"
   ]
  },
  {
   "cell_type": "code",
   "execution_count": 14,
   "id": "be880e11",
   "metadata": {},
   "outputs": [],
   "source": [
    "df = pd.DataFrame(songs)"
   ]
  },
  {
   "cell_type": "code",
   "execution_count": 21,
   "id": "edb4617a",
   "metadata": {},
   "outputs": [],
   "source": [
    "# Drop the unnamed first column\n",
    "df.drop(df.columns[0], axis = 1, inplace = True, errors = 'ignore')\n",
    "df[\"Year\"] = pd.to_numeric(df[\"Year\"], errors = 'coerce')\n",
    "df[\"L\"] = pd.to_numeric(df[\"L\"], errors = 'coerce')\n",
    "df[\"V\"] = pd.to_numeric(df[\"V\"], errors = 'coerce')\n",
    "df[\"D\"] = pd.to_numeric(df[\"D\"], errors = 'coerce')\n",
    "df.dropna(axis = 0, inplace = True)\n",
    "\n",
    "# Drop normalized columns\n",
    "df.drop([\"normalized_L\", \"normalized_V\", \"normalized_D\"], axis = 1, inplace = True, errors = 'ignore')\n",
    "\n",
    "# Drop Z-Score columns\n",
    "df.drop([\"z_score_L\", \"z_score_V\", \"z_score_D\"], axis = 1, inplace = True, errors = 'ignore')"
   ]
  },
  {
   "cell_type": "code",
   "execution_count": 16,
   "id": "ab9bbbc4",
   "metadata": {},
   "outputs": [
    {
     "data": {
      "text/html": [
       "<div>\n",
       "<style scoped>\n",
       "    .dataframe tbody tr th:only-of-type {\n",
       "        vertical-align: middle;\n",
       "    }\n",
       "\n",
       "    .dataframe tbody tr th {\n",
       "        vertical-align: top;\n",
       "    }\n",
       "\n",
       "    .dataframe thead th {\n",
       "        text-align: right;\n",
       "    }\n",
       "</style>\n",
       "<table border=\"1\" class=\"dataframe\">\n",
       "  <thead>\n",
       "    <tr style=\"text-align: right;\">\n",
       "      <th></th>\n",
       "      <th>Title</th>\n",
       "      <th>Artist</th>\n",
       "      <th>Year</th>\n",
       "      <th>Lyrics</th>\n",
       "      <th>L</th>\n",
       "      <th>V</th>\n",
       "      <th>D</th>\n",
       "    </tr>\n",
       "  </thead>\n",
       "  <tbody>\n",
       "    <tr>\n",
       "      <th>0</th>\n",
       "      <td>the-battle</td>\n",
       "      <td>blood-sweat-tears</td>\n",
       "      <td>1970.0</td>\n",
       "      <td>While the king and queen lie sleeping\\nAnd the...</td>\n",
       "      <td>103</td>\n",
       "      <td>70</td>\n",
       "      <td>0.6796116504854369</td>\n",
       "    </tr>\n",
       "    <tr>\n",
       "      <th>1</th>\n",
       "      <td>hey-jude</td>\n",
       "      <td>count-basie</td>\n",
       "      <td>1970.0</td>\n",
       "      <td>Hey Jude, don't make it bad\\nTake a sad song a...</td>\n",
       "      <td>98</td>\n",
       "      <td>41</td>\n",
       "      <td>0.41836734693877553</td>\n",
       "    </tr>\n",
       "    <tr>\n",
       "      <th>2</th>\n",
       "      <td>time</td>\n",
       "      <td>david-bowie</td>\n",
       "      <td>1973.0</td>\n",
       "      <td>Time, he's waiting in the wings\\nHe speaks of ...</td>\n",
       "      <td>197</td>\n",
       "      <td>74</td>\n",
       "      <td>0.3756345177664975</td>\n",
       "    </tr>\n",
       "    <tr>\n",
       "      <th>3</th>\n",
       "      <td>we-can-make-the-world-a-whole-lot-brighter</td>\n",
       "      <td>the-brady-bunch</td>\n",
       "      <td>1972.0</td>\n",
       "      <td>Birds flying high,\\nIn search of a clear blue ...</td>\n",
       "      <td>43</td>\n",
       "      <td>38</td>\n",
       "      <td>0.8837209302325582</td>\n",
       "    </tr>\n",
       "    <tr>\n",
       "      <th>4</th>\n",
       "      <td>day-by-day</td>\n",
       "      <td>carmen-mcrae</td>\n",
       "      <td>1972.0</td>\n",
       "      <td>Day by day I'm falling more in love with you\\n...</td>\n",
       "      <td>29</td>\n",
       "      <td>19</td>\n",
       "      <td>0.6551724137931034</td>\n",
       "    </tr>\n",
       "    <tr>\n",
       "      <th>...</th>\n",
       "      <td>...</td>\n",
       "      <td>...</td>\n",
       "      <td>...</td>\n",
       "      <td>...</td>\n",
       "      <td>...</td>\n",
       "      <td>...</td>\n",
       "      <td>...</td>\n",
       "    </tr>\n",
       "    <tr>\n",
       "      <th>4495</th>\n",
       "      <td>the-dark-side-of-the-rainbow</td>\n",
       "      <td>da-grym-reefer</td>\n",
       "      <td>2012.0</td>\n",
       "      <td>Da Grym Reefer:\\nI be sitting back\\nThinking o...</td>\n",
       "      <td>270</td>\n",
       "      <td>185</td>\n",
       "      <td>0.6851851851851852</td>\n",
       "    </tr>\n",
       "    <tr>\n",
       "      <th>4496</th>\n",
       "      <td>tester</td>\n",
       "      <td>anthrax</td>\n",
       "      <td>2006.0</td>\n",
       "      <td>I've changed, by staying the same\\nWhat does i...</td>\n",
       "      <td>93</td>\n",
       "      <td>40</td>\n",
       "      <td>0.43010752688172044</td>\n",
       "    </tr>\n",
       "    <tr>\n",
       "      <th>4497</th>\n",
       "      <td>killing-me-inside</td>\n",
       "      <td>crossfade</td>\n",
       "      <td>2011.0</td>\n",
       "      <td>There's a dream that comes to me\\nAnd it whisp...</td>\n",
       "      <td>82</td>\n",
       "      <td>34</td>\n",
       "      <td>0.4146341463414634</td>\n",
       "    </tr>\n",
       "    <tr>\n",
       "      <th>4498</th>\n",
       "      <td>babel</td>\n",
       "      <td>cruel-tie</td>\n",
       "      <td>2015.0</td>\n",
       "      <td>I'm stepping down, hurrin' up. Settle down. Do...</td>\n",
       "      <td>109</td>\n",
       "      <td>82</td>\n",
       "      <td>0.7522935779816514</td>\n",
       "    </tr>\n",
       "    <tr>\n",
       "      <th>4499</th>\n",
       "      <td>i-know-i-ve-been-changed</td>\n",
       "      <td>aaron-neville</td>\n",
       "      <td>2010.0</td>\n",
       "      <td>Oh I, know I've been changed\\nAnd I know I've ...</td>\n",
       "      <td>61</td>\n",
       "      <td>27</td>\n",
       "      <td>0.4426229508196721</td>\n",
       "    </tr>\n",
       "  </tbody>\n",
       "</table>\n",
       "<p>4450 rows × 7 columns</p>\n",
       "</div>"
      ],
      "text/plain": [
       "                                           Title             Artist    Year  \\\n",
       "0                                     the-battle  blood-sweat-tears  1970.0   \n",
       "1                                       hey-jude        count-basie  1970.0   \n",
       "2                                           time        david-bowie  1973.0   \n",
       "3     we-can-make-the-world-a-whole-lot-brighter    the-brady-bunch  1972.0   \n",
       "4                                     day-by-day       carmen-mcrae  1972.0   \n",
       "...                                          ...                ...     ...   \n",
       "4495                the-dark-side-of-the-rainbow     da-grym-reefer  2012.0   \n",
       "4496                                      tester            anthrax  2006.0   \n",
       "4497                           killing-me-inside          crossfade  2011.0   \n",
       "4498                                       babel          cruel-tie  2015.0   \n",
       "4499                    i-know-i-ve-been-changed      aaron-neville  2010.0   \n",
       "\n",
       "                                                 Lyrics    L    V  \\\n",
       "0     While the king and queen lie sleeping\\nAnd the...  103   70   \n",
       "1     Hey Jude, don't make it bad\\nTake a sad song a...   98   41   \n",
       "2     Time, he's waiting in the wings\\nHe speaks of ...  197   74   \n",
       "3     Birds flying high,\\nIn search of a clear blue ...   43   38   \n",
       "4     Day by day I'm falling more in love with you\\n...   29   19   \n",
       "...                                                 ...  ...  ...   \n",
       "4495  Da Grym Reefer:\\nI be sitting back\\nThinking o...  270  185   \n",
       "4496  I've changed, by staying the same\\nWhat does i...   93   40   \n",
       "4497  There's a dream that comes to me\\nAnd it whisp...   82   34   \n",
       "4498  I'm stepping down, hurrin' up. Settle down. Do...  109   82   \n",
       "4499  Oh I, know I've been changed\\nAnd I know I've ...   61   27   \n",
       "\n",
       "                        D  \n",
       "0      0.6796116504854369  \n",
       "1     0.41836734693877553  \n",
       "2      0.3756345177664975  \n",
       "3      0.8837209302325582  \n",
       "4      0.6551724137931034  \n",
       "...                   ...  \n",
       "4495   0.6851851851851852  \n",
       "4496  0.43010752688172044  \n",
       "4497   0.4146341463414634  \n",
       "4498   0.7522935779816514  \n",
       "4499   0.4426229508196721  \n",
       "\n",
       "[4450 rows x 7 columns]"
      ]
     },
     "execution_count": 16,
     "metadata": {},
     "output_type": "execute_result"
    }
   ],
   "source": [
    "df"
   ]
  },
  {
   "cell_type": "markdown",
   "id": "00c103fd",
   "metadata": {},
   "source": [
    "## Part 1 - Use Columns L, V, D\n",
    "Nothing needs to be done here, existing columns"
   ]
  },
  {
   "cell_type": "markdown",
   "id": "05289f7d",
   "metadata": {},
   "source": [
    "... Student specific code here"
   ]
  },
  {
   "cell_type": "code",
   "execution_count": 22,
   "id": "01d8daee",
   "metadata": {},
   "outputs": [],
   "source": [
    "x = df[[\"Year\", \"L\", \"V\", \"D\"]]"
   ]
  },
  {
   "cell_type": "markdown",
   "id": "fa56878d",
   "metadata": {},
   "source": [
    "## Part 2 - K-Means Clustering\n",
    "Produce two cluster groups."
   ]
  },
  {
   "cell_type": "code",
   "execution_count": 24,
   "id": "59176234",
   "metadata": {},
   "outputs": [],
   "source": [
    "model = cluster.KMeans(n_clusters = 2)\n",
    "model.fit(x)\n",
    "clusters_pred = model.predict(x)"
   ]
  },
  {
   "cell_type": "markdown",
   "id": "279e288a",
   "metadata": {},
   "source": [
    "## Part 3 - Scatter Plot of 2 Features\n",
    "Select two features and produce a scatterplot of them, centroids should be visible, axes should be labeled."
   ]
  },
  {
   "cell_type": "code",
   "execution_count": 28,
   "id": "3a42296f",
   "metadata": {},
   "outputs": [
    {
     "data": {
      "image/png": "[encoded data removed]",
      "text/plain": [
       "<Figure size 432x288 with 1 Axes>"
      ]
     },
     "metadata": {
      "needs_background": "light"
     },
     "output_type": "display_data"
    }
   ],
   "source": [
    "# Select the visible axes\n",
    "axes = [0, 2]\n",
    "\n",
    "# Define centroids\n",
    "centroids = model.cluster_centers_\n",
    "\n",
    "# Plot them\n",
    "plt.scatter(x.values[:,axes[0]],x.values[:,axes[1]],c=clusters_pred)\n",
    "plt.scatter(centroids[:,axes[0]],centroids[:,axes[1]],marker=\"+\",c=\"red\",s=150)\n",
    "\n",
    "# Label Axes\n",
    "plt.xlabel('Song Year')\n",
    "plt.ylabel('V (Unique Words)')\n",
    "\n",
    "# Show Plot\n",
    "plt.show()\n",
    "\n",
    "# Disable Output\n",
    "None"
   ]
  },
  {
   "cell_type": "markdown",
   "id": "988c9c2f",
   "metadata": {},
   "source": [
    "## Part 4 - Different Subsets & Interpretation\n",
    "Use different subsets of features and find one selection that looks more meaningful to you and interpret the plot in less than 50 words in a markdown cell below the plot. What do you think is the similarity in the this clustering? Use statements such as: \"Old songs are grouped together\"."
   ]
  },
  {
   "cell_type": "markdown",
   "id": "7f0926d1",
   "metadata": {},
   "source": [
    "... Repeat #3 multiple times and interpret the most meaningful plot"
   ]
  },
  {
   "cell_type": "markdown",
   "id": "6dfd36cc",
   "metadata": {},
   "source": [
    "## Part 5 - Evaluate Clusters vs. Cost"
   ]
  },
  {
   "cell_type": "code",
   "execution_count": 31,
   "id": "5556ad48",
   "metadata": {},
   "outputs": [
    {
     "data": {
      "image/png": "[encoded data removed]",
      "text/plain": [
       "<Figure size 432x288 with 1 Axes>"
      ]
     },
     "metadata": {
      "needs_background": "light"
     },
     "output_type": "display_data"
    }
   ],
   "source": [
    "# List of inertias (cost)\n",
    "inertias = []\n",
    "\n",
    "# Run model on 19 different n_clusters\n",
    "for k in np.arange(1, 20):\n",
    "    model = cluster.KMeans(n_clusters = k)\n",
    "    model.fit(x)\n",
    "    inertias.append(model.inertia_)\n",
    "\n",
    "# Plot Result\n",
    "plt.plot(np.arange(1,20), inertias)\n",
    "plt.xlabel(\"Clusters Count\")\n",
    "plt.ylabel(\"Inertia (Cost)\")\n",
    "plt.show()\n",
    "\n",
    "# Hide Debug\n",
    "None"
   ]
  },
  {
   "cell_type": "markdown",
   "id": "da2db6a8",
   "metadata": {},
   "source": [
    "... Student interpretation and thoughts on the above graph"
   ]
  },
  {
   "cell_type": "markdown",
   "id": "dce72f84",
   "metadata": {},
   "source": [
    "## Part 6 - DBSCAN Models"
   ]
  },
  {
   "cell_type": "code",
   "execution_count": 37,
   "id": "525b1a75",
   "metadata": {},
   "outputs": [
    {
     "name": "stdout",
     "output_type": "stream",
     "text": [
      "4444\n"
     ]
    }
   ],
   "source": [
    "# Run Model #1\n",
    "model = cluster.DBSCAN(eps = 2, min_samples = 5)\n",
    "model.fit(x) \n",
    "\n",
    "# Print Cluster Count\n",
    "print(len(model.labels_))"
   ]
  },
  {
   "cell_type": "code",
   "execution_count": 38,
   "id": "f9b5040a",
   "metadata": {},
   "outputs": [
    {
     "name": "stdout",
     "output_type": "stream",
     "text": [
      "4444\n"
     ]
    }
   ],
   "source": [
    "# Run Model #2\n",
    "model = cluster.DBSCAN(eps = 3, min_samples = 9)\n",
    "model.fit(x) \n",
    "\n",
    "# Print Cluster Count\n",
    "print(len(model.labels_))"
   ]
  },
  {
   "cell_type": "code",
   "execution_count": 39,
   "id": "1a208f09",
   "metadata": {},
   "outputs": [
    {
     "name": "stdout",
     "output_type": "stream",
     "text": [
      "4444\n"
     ]
    }
   ],
   "source": [
    "# Run Model #3\n",
    "model = cluster.DBSCAN(eps = 4, min_samples = 16)\n",
    "model.fit(x) \n",
    "\n",
    "# Print Cluster Count\n",
    "print(len(model.labels_))"
   ]
  },
  {
   "cell_type": "markdown",
   "id": "391786bf",
   "metadata": {},
   "source": [
    "... Student interpretation of the above three figures"
   ]
  }
 ],
 "metadata": {
  "kernelspec": {
   "display_name": "Python 3 (ipykernel)",
   "language": "python",
   "name": "python3"
  },
  "language_info": {
   "codemirror_mode": {
    "name": "ipython",
    "version": 3
   },
   "file_extension": ".py",
   "mimetype": "text/x-python",
   "name": "python",
   "nbconvert_exporter": "python",
   "pygments_lexer": "ipython3",
   "version": "3.8.8"
  }
 },
 "nbformat": 4,
 "nbformat_minor": 5
}
