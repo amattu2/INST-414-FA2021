{
 "cells": [
  {
   "cell_type": "markdown",
   "id": "ba0b1273",
   "metadata": {},
   "source": [
    "# Project 5 Example\n",
    "### Alec K. Mattu (UTA)\n",
    "### INST 414\n",
    "### 12/03/2021"
   ]
  },
  {
   "cell_type": "markdown",
   "id": "2b549550",
   "metadata": {},
   "source": [
    "# Instructions\n",
    "..."
   ]
  },
  {
   "cell_type": "markdown",
   "id": "9d762cab",
   "metadata": {},
   "source": [
    "# Solution"
   ]
  },
  {
   "cell_type": "markdown",
   "id": "24c10863",
   "metadata": {},
   "source": [
    "## Part 0 - Preparation"
   ]
  },
  {
   "cell_type": "code",
   "execution_count": null,
   "id": "6155b55c",
   "metadata": {},
   "outputs": [],
   "source": [
    "# Import required libraries                               # HOMEWORK USAGE\n",
    "import csv                                                # *Importing CSV\n",
    "import pandas as pd                                       # General HW util\n",
    "import sklearn.metrics as metrics                         # LogisticRegression Metrics\n",
    "import sklearn.feature_extraction                         # Song Lengths (L, V)\n",
    "import matplotlib.pyplot as plt                           # General Graphing Util\n",
    "from sklearn import linear_model                          # LogisticRegression\n",
    "from sklearn.model_selection import train_test_split      # Splitting Training Data\n",
    "from sklearn.metrics import classification_report         # LogisticRegression Classification\n",
    "from mlxtend.plotting import plot_decision_regions        # Boundary Decision Graph"
   ]
  },
  {
   "cell_type": "code",
   "execution_count": 2,
   "id": "0ddbab18",
   "metadata": {
    "scrolled": true
   },
   "outputs": [],
   "source": [
    "# Hold songs in a list\n",
    "songs = []\n",
    "\n",
    "# Open CSV file with handle\n",
    "with open(\"dataset_out.csv\") as csv_file:\n",
    "    # Create a file reader\n",
    "    file_reader = csv.DictReader(csv_file)\n",
    "    \n",
    "    # Loop through CSV rows\n",
    "    for row in file_reader:\n",
    "        songs.append(row)"
   ]
  },
  {
   "cell_type": "markdown",
   "id": "00c103fd",
   "metadata": {},
   "source": [
    "## Part 1 - \n"
   ]
  }
 ],
 "metadata": {
  "kernelspec": {
   "display_name": "Python 3 (ipykernel)",
   "language": "python",
   "name": "python3"
  },
  "language_info": {
   "codemirror_mode": {
    "name": "ipython",
    "version": 3
   },
   "file_extension": ".py",
   "mimetype": "text/x-python",
   "name": "python",
   "nbconvert_exporter": "python",
   "pygments_lexer": "ipython3",
   "version": "3.8.8"
  }
 },
 "nbformat": 4,
 "nbformat_minor": 5
}
