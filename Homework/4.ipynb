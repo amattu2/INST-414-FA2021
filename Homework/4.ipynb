{
 "cells": [
  {
   "cell_type": "markdown",
   "id": "ba0b1273",
   "metadata": {},
   "source": [
    "# Project 4 Example\n",
    "### Alec K. Mattu (UTA)\n",
    "### INST 414\n",
    "### 11/22/2021"
   ]
  },
  {
   "cell_type": "markdown",
   "id": "2b549550",
   "metadata": {},
   "source": [
    "# Instructions\n",
    "**(1)** add your favorite song to the dataset as the last row. Manually enter the data entries of your favorite song (song name, artist name, year, and lyrics). \n",
    "\n",
    "**(2)**  Add a column  L which contains the number of words for each song, column V which contains the number of unique words for each song and column D containing the ratio V/L  (no scaling  needed).\n",
    "\n",
    "**(3)** Vectorize songs using tfidf vectorization. So now for each song there is a tfidf vector. Store in a dataframe called tfidf_vecs. \n",
    "\n",
    "**(4)** Find the cosine similarity of your favorite song to every song in the dataset, using tfidf_vecs. \n",
    "\n",
    "**(5-1)** Now add a column to the data called class. We want to label the song classes based on the similarity to your favorite song. Find the median of all cosine similarities and if the similarity of a song is above the median level, label it 1 and if the similarity is less than median level, label it 0.\n",
    "\n",
    "**(5-2)** Split the data to train and test set (0.25 of the rows in test set). Run simple logistic regression on this dataset, where features are year, L, V, and D and the output variable is class.\n",
    "\n",
    "**(6)** Print the metrics to evaluate the performance of this classifier.\n",
    "\n",
    "**(7)** Now select two of the features (out of 4 features) and repeat step 5 and 6. What do you observe? Do the metrics change if you select another two features? What does this change mean? Please add you answer in no more than 100 words, in a markdown cell.\n",
    "\n",
    "**(8)** Plot the boundary decision for one of the selections in step 7 (your choice) and label the axes."
   ]
  },
  {
   "cell_type": "markdown",
   "id": "9d762cab",
   "metadata": {},
   "source": [
    "# Solution"
   ]
  },
  {
   "cell_type": "markdown",
   "id": "24c10863",
   "metadata": {},
   "source": [
    "## Part 0 - Preparation"
   ]
  },
  {
   "cell_type": "code",
   "execution_count": 2,
   "id": "6155b55c",
   "metadata": {},
   "outputs": [],
   "source": [
    "# Import required libraries\n",
    "import csv\n",
    "import pandas as pd\n",
    "import requests"
   ]
  },
  {
   "cell_type": "code",
   "execution_count": 2,
   "id": "0ddbab18",
   "metadata": {
    "scrolled": true
   },
   "outputs": [],
   "source": [
    "# Hold songs in a list\n",
    "songs = []\n",
    "\n",
    "# Open CSV file with handle\n",
    "with open(\"dataset_out.csv\") as csv_file:\n",
    "    # Create a file reader\n",
    "    file_reader = csv.DictReader(csv_file)\n",
    "    \n",
    "    # Loop through CSV rows\n",
    "    for row in file_reader:\n",
    "        songs.append(row)"
   ]
  },
  {
   "cell_type": "markdown",
   "id": "00c103fd",
   "metadata": {},
   "source": [
    "## Part 1 - Favorite Song Information\n",
    "Get the lyrics from azlyrics.com and then insert them into the CSV from Homework 1.\n",
    "\n",
    "**OPTIONAL: Use the following approach instead of manually adding the song**"
   ]
  },
  {
   "cell_type": "code",
   "execution_count": 3,
   "id": "46378497",
   "metadata": {
    "scrolled": true
   },
   "outputs": [],
   "source": [
    "# Placeholder dict\n",
    "song = {\n",
    "    \"Title\": \"taro\",\n",
    "    \"Artist\": \"alt-j\",\n",
    "    \"Year\": 2012,\n",
    "    \"Lyrics\": \"\",\n",
    "}\n",
    "page = requests.get(\"https://www.azlyrics.com/lyrics/altj/taro.html\")\n",
    "\n",
    "# Validate the lyric request\n",
    "if (page.status_code != 200):\n",
    "    print(\"Failed to download song lyrics\")\n",
    "    exit()\n",
    "\n",
    "# Parse the HTML content from the request\n",
    "soup = bs(page.content, \"html.parser\")\n",
    "lyric_div = soup.find(class_= \"col-xs-12 col-lg-8 text-center\").find(\"div\", attrs = {'class': None})   \n",
    "lyrics = lyric_div.text.splitlines()\n",
    "lyrics = list(filter(None, lyrics))\n",
    "\n",
    "# Recombine the lyrics into a single string\n",
    "song[\"Lyrics\"] = str.join(\"\\n\", lyrics)\n",
    "songs.append(song)"
   ]
  },
  {
   "cell_type": "code",
   "execution_count": 4,
   "id": "84edd654",
   "metadata": {},
   "outputs": [],
   "source": [
    "# Transform list into a DF\n",
    "df = pd.DataFrame(songs)"
   ]
  },
  {
   "cell_type": "code",
   "execution_count": 5,
   "id": "80f346c1",
   "metadata": {},
   "outputs": [],
   "source": [
    "# Drop the unnamed first column\n",
    "df.drop(df.columns[0], axis = 1, inplace = True, errors = 'ignore')\n",
    "\n",
    "# Drop normalized columns\n",
    "df.drop([\"normalized_L\", \"normalized_V\", \"normalized_D\"], axis = 1, inplace = True, errors = 'ignore')\n",
    "\n",
    "# Drop Z-Score columns\n",
    "df.drop([\"z_score_L\", \"z_score_V\", \"z_score_D\"], axis = 1, inplace = True, errors = 'ignore')\n",
    "\n",
    "# Drop L, V, D\n",
    "df.drop([\"L\", \"V\", \"D\"], axis = 1, inplace = True, errors = 'ignore')"
   ]
  },
  {
   "cell_type": "code",
   "execution_count": 6,
   "id": "84e4be35",
   "metadata": {},
   "outputs": [
    {
     "data": {
      "text/html": [
       "<div>\n",
       "<style scoped>\n",
       "    .dataframe tbody tr th:only-of-type {\n",
       "        vertical-align: middle;\n",
       "    }\n",
       "\n",
       "    .dataframe tbody tr th {\n",
       "        vertical-align: top;\n",
       "    }\n",
       "\n",
       "    .dataframe thead th {\n",
       "        text-align: right;\n",
       "    }\n",
       "</style>\n",
       "<table border=\"1\" class=\"dataframe\">\n",
       "  <thead>\n",
       "    <tr style=\"text-align: right;\">\n",
       "      <th></th>\n",
       "      <th>Title</th>\n",
       "      <th>Artist</th>\n",
       "      <th>Year</th>\n",
       "      <th>Lyrics</th>\n",
       "    </tr>\n",
       "  </thead>\n",
       "  <tbody>\n",
       "    <tr>\n",
       "      <th>0</th>\n",
       "      <td>the-battle</td>\n",
       "      <td>blood-sweat-tears</td>\n",
       "      <td>1970</td>\n",
       "      <td>While the king and queen lie sleeping\\nAnd the...</td>\n",
       "    </tr>\n",
       "    <tr>\n",
       "      <th>1</th>\n",
       "      <td>hey-jude</td>\n",
       "      <td>count-basie</td>\n",
       "      <td>1970</td>\n",
       "      <td>Hey Jude, don't make it bad\\nTake a sad song a...</td>\n",
       "    </tr>\n",
       "    <tr>\n",
       "      <th>2</th>\n",
       "      <td>time</td>\n",
       "      <td>david-bowie</td>\n",
       "      <td>1973</td>\n",
       "      <td>Time, he's waiting in the wings\\nHe speaks of ...</td>\n",
       "    </tr>\n",
       "    <tr>\n",
       "      <th>3</th>\n",
       "      <td>we-can-make-the-world-a-whole-lot-brighter</td>\n",
       "      <td>the-brady-bunch</td>\n",
       "      <td>1972</td>\n",
       "      <td>Birds flying high,\\nIn search of a clear blue ...</td>\n",
       "    </tr>\n",
       "    <tr>\n",
       "      <th>4</th>\n",
       "      <td>day-by-day</td>\n",
       "      <td>carmen-mcrae</td>\n",
       "      <td>1972</td>\n",
       "      <td>Day by day I'm falling more in love with you\\n...</td>\n",
       "    </tr>\n",
       "    <tr>\n",
       "      <th>...</th>\n",
       "      <td>...</td>\n",
       "      <td>...</td>\n",
       "      <td>...</td>\n",
       "      <td>...</td>\n",
       "    </tr>\n",
       "    <tr>\n",
       "      <th>4496</th>\n",
       "      <td>tester</td>\n",
       "      <td>anthrax</td>\n",
       "      <td>2006</td>\n",
       "      <td>I've changed, by staying the same\\nWhat does i...</td>\n",
       "    </tr>\n",
       "    <tr>\n",
       "      <th>4497</th>\n",
       "      <td>killing-me-inside</td>\n",
       "      <td>crossfade</td>\n",
       "      <td>2011</td>\n",
       "      <td>There's a dream that comes to me\\nAnd it whisp...</td>\n",
       "    </tr>\n",
       "    <tr>\n",
       "      <th>4498</th>\n",
       "      <td>babel</td>\n",
       "      <td>cruel-tie</td>\n",
       "      <td>2015</td>\n",
       "      <td>I'm stepping down, hurrin' up. Settle down. Do...</td>\n",
       "    </tr>\n",
       "    <tr>\n",
       "      <th>4499</th>\n",
       "      <td>i-know-i-ve-been-changed</td>\n",
       "      <td>aaron-neville</td>\n",
       "      <td>2010</td>\n",
       "      <td>Oh I, know I've been changed\\nAnd I know I've ...</td>\n",
       "    </tr>\n",
       "    <tr>\n",
       "      <th>4500</th>\n",
       "      <td>taro</td>\n",
       "      <td>alt-j</td>\n",
       "      <td>2012</td>\n",
       "      <td>Indochina, Capa jumps Jeep, two feet creep up ...</td>\n",
       "    </tr>\n",
       "  </tbody>\n",
       "</table>\n",
       "<p>4501 rows × 4 columns</p>\n",
       "</div>"
      ],
      "text/plain": [
       "                                           Title             Artist  Year  \\\n",
       "0                                     the-battle  blood-sweat-tears  1970   \n",
       "1                                       hey-jude        count-basie  1970   \n",
       "2                                           time        david-bowie  1973   \n",
       "3     we-can-make-the-world-a-whole-lot-brighter    the-brady-bunch  1972   \n",
       "4                                     day-by-day       carmen-mcrae  1972   \n",
       "...                                          ...                ...   ...   \n",
       "4496                                      tester            anthrax  2006   \n",
       "4497                           killing-me-inside          crossfade  2011   \n",
       "4498                                       babel          cruel-tie  2015   \n",
       "4499                    i-know-i-ve-been-changed      aaron-neville  2010   \n",
       "4500                                        taro              alt-j  2012   \n",
       "\n",
       "                                                 Lyrics  \n",
       "0     While the king and queen lie sleeping\\nAnd the...  \n",
       "1     Hey Jude, don't make it bad\\nTake a sad song a...  \n",
       "2     Time, he's waiting in the wings\\nHe speaks of ...  \n",
       "3     Birds flying high,\\nIn search of a clear blue ...  \n",
       "4     Day by day I'm falling more in love with you\\n...  \n",
       "...                                                 ...  \n",
       "4496  I've changed, by staying the same\\nWhat does i...  \n",
       "4497  There's a dream that comes to me\\nAnd it whisp...  \n",
       "4498  I'm stepping down, hurrin' up. Settle down. Do...  \n",
       "4499  Oh I, know I've been changed\\nAnd I know I've ...  \n",
       "4500  Indochina, Capa jumps Jeep, two feet creep up ...  \n",
       "\n",
       "[4501 rows x 4 columns]"
      ]
     },
     "execution_count": 6,
     "metadata": {},
     "output_type": "execute_result"
    }
   ],
   "source": [
    "df"
   ]
  }
 ],
 "metadata": {
  "kernelspec": {
   "display_name": "Python 3 (ipykernel)",
   "language": "python",
   "name": "python3"
  },
  "language_info": {
   "codemirror_mode": {
    "name": "ipython",
    "version": 3
   },
   "file_extension": ".py",
   "mimetype": "text/x-python",
   "name": "python",
   "nbconvert_exporter": "python",
   "pygments_lexer": "ipython3",
   "version": "3.8.8"
  }
 },
 "nbformat": 4,
 "nbformat_minor": 5
}
